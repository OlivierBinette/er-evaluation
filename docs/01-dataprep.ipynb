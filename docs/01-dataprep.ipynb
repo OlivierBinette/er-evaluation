{
 "cells": [
  {
   "attachments": {},
   "cell_type": "markdown",
   "metadata": {},
   "source": [
    "# Data Preparation\n",
    "\n",
    "ER-Evaluation expects clusterings and disambiguations to be represented as **membership vectors**, as verified by the {py:func}`er_evaluation.ismembership` function."
   ]
  },
  {
   "attachments": {},
   "cell_type": "markdown",
   "metadata": {},
   "source": [
    "A membership vector is a pandas Series indexed by element IDs and with values corresponding to an assigned cluster ID. Here is an example, representing the ground truth disambiguation for the [RLdata500 dataset](https://search.r-project.org/CRAN/refmans/RecordLinkage/html/RLdata.html). It assigns record IDs (labels from 0 to 499) in the first column to cluster identifiers in the second column. String identifiers and hashable types are also allowed."
   ]
  },
  {
   "cell_type": "code",
   "execution_count": null,
   "metadata": {},
   "outputs": [
    {
     "data": {
      "text/plain": [
       "0       34\n",
       "1       51\n",
       "2      115\n",
       "3      189\n",
       "4       72\n",
       "      ... \n",
       "495    413\n",
       "496    378\n",
       "497    399\n",
       "498    315\n",
       "499    238\n",
       "Name: identity.RLdata500, Length: 500, dtype: object"
      ]
     },
     "execution_count": 9,
     "metadata": {},
     "output_type": "execute_result"
    }
   ],
   "source": [
    "import er_evaluation as ee\n",
    "\n",
    "_, reference = ee.load_rldata500_disambiguations()\n",
    "reference"
   ]
  },
  {
   "attachments": {},
   "cell_type": "markdown",
   "metadata": {},
   "source": [
    "```{note}\n",
    "Membership vector indices should be **unique and non-NA**. Values can be NA to represent non-clustered elements. NA values are typically discarded before any computation.\n",
    "```"
   ]
  },
  {
   "attachments": {},
   "cell_type": "markdown",
   "metadata": {},
   "source": [
    "## Data Transformations\n",
    "\n",
    "You can transform between different clustering representations using functions from the {py:module}`er_evaluation.data_structures` module. For instance, if your datasets contains pairs of records that belong to the same entity, then you can transform this to a membership vector using the {py:func}`er_evaluation.pairs_to_membership` function. This requires specifying a full index.\n",
    "\n",
    "In the example below, records 1 and 2 belong to a first cluster, records 3 and 5 belong to a second cluster, record 4 is its own cluster, and records 6 and 7 and 8 belong to the same cluster. The input data look as follows:"
   ]
  },
  {
   "cell_type": "code",
   "execution_count": 2,
   "metadata": {},
   "outputs": [
    {
     "data": {
      "text/plain": [
       "array([[1, 2],\n",
       "       [3, 5],\n",
       "       [6, 7],\n",
       "       [6, 8],\n",
       "       [7, 8]])"
      ]
     },
     "execution_count": 2,
     "metadata": {},
     "output_type": "execute_result"
    }
   ],
   "source": [
    "from numpy import array\n",
    "pairs = array([[1, 2], [3, 5], [6, 7], [6, 8], [7, 8]])\n",
    "pairs"
   ]
  },
  {
   "attachments": {},
   "cell_type": "markdown",
   "metadata": {},
   "source": [
    "You can transform this to a membership vector by specifying a full index:"
   ]
  },
  {
   "cell_type": "code",
   "execution_count": 4,
   "metadata": {},
   "outputs": [
    {
     "data": {
      "text/plain": [
       "1    0\n",
       "2    0\n",
       "3    1\n",
       "4    2\n",
       "5    1\n",
       "6    3\n",
       "7    3\n",
       "8    3\n",
       "dtype: int64"
      ]
     },
     "execution_count": 4,
     "metadata": {},
     "output_type": "execute_result"
    }
   ],
   "source": [
    "indices = array([1,2,3,4,5,6,7,8])\n",
    "\n",
    "ee.pairs_to_membership(pairs, indices)"
   ]
  },
  {
   "attachments": {},
   "cell_type": "markdown",
   "metadata": {},
   "source": [
    "Similarly, you can transform a clusters dictionary to a membership using the {py:func}`er_evaluation.clusters_to_membership` function:"
   ]
  },
  {
   "cell_type": "code",
   "execution_count": 5,
   "metadata": {},
   "outputs": [
    {
     "data": {
      "text/plain": [
       "1    1\n",
       "2    1\n",
       "3    2\n",
       "5    2\n",
       "4    3\n",
       "6    4\n",
       "7    4\n",
       "8    4\n",
       "dtype: int64"
      ]
     },
     "execution_count": 5,
     "metadata": {},
     "output_type": "execute_result"
    }
   ],
   "source": [
    "clusters = {1: array([1, 2]), 2: array([3, 5]), 3: array([4]), 4: array([6, 7, 8])}\n",
    "ee.clusters_to_membership(clusters)"
   ]
  },
  {
   "attachments": {},
   "cell_type": "markdown",
   "metadata": {},
   "source": [
    "Other functions are available in the {py:module}`er_evaluation.data_structures` module to reverse transformations and to deal with igraph Graph objects."
   ]
  },
  {
   "attachments": {},
   "cell_type": "markdown",
   "metadata": {},
   "source": [
    "## Performance Considerations"
   ]
  },
  {
   "attachments": {},
   "cell_type": "markdown",
   "metadata": {},
   "source": [
    "When dealing with large membership vectors (millions of rows), performance can be affected by the choice of data types. To compress a membership vector to an equivalent integer representation, you can use the {py:func}`er_evaluation.compress_memberships` function. Compressing membership vectors rather than using string-valued identifiers can significantly speed up subsequent operations. Here's an example:"
   ]
  },
  {
   "cell_type": "code",
   "execution_count": 6,
   "metadata": {},
   "outputs": [
    {
     "data": {
      "text/plain": [
       "[0    0\n",
       " 1    0\n",
       " 2    0\n",
       " 3    1\n",
       " 4    1\n",
       " 5    2\n",
       " Name: 0, dtype: int8]"
      ]
     },
     "execution_count": 6,
     "metadata": {},
     "output_type": "execute_result"
    }
   ],
   "source": [
    "import pandas as pd\n",
    "membership = pd.Series([\"c1\", \"c1\", \"c1\", \"c2\", \"c2\", \"c3\"], index=[0,1,2,3,4,5])\n",
    "\n",
    "ee.compress_memberships(membership)"
   ]
  },
  {
   "attachments": {},
   "cell_type": "markdown",
   "metadata": {},
   "source": [
    "You can pass multiple membership vectors to the function to compress while preserving index compatibility."
   ]
  }
 ],
 "metadata": {
  "kernelspec": {
   "display_name": "er-evaluation",
   "language": "python",
   "name": "python3"
  },
  "language_info": {
   "codemirror_mode": {
    "name": "ipython",
    "version": 3
   },
   "file_extension": ".py",
   "mimetype": "text/x-python",
   "name": "python",
   "nbconvert_exporter": "python",
   "pygments_lexer": "ipython3",
   "version": "3.10.8"
  },
  "orig_nbformat": 4
 },
 "nbformat": 4,
 "nbformat_minor": 2
}
