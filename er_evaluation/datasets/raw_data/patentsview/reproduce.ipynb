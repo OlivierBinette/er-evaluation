{
 "cells": [
  {
   "cell_type": "code",
   "execution_count": 1,
   "metadata": {},
   "outputs": [],
   "source": [
    "import pandas as pd"
   ]
  },
  {
   "attachments": {},
   "cell_type": "markdown",
   "metadata": {},
   "source": [
    "### Load data"
   ]
  },
  {
   "cell_type": "code",
   "execution_count": 2,
   "metadata": {},
   "outputs": [],
   "source": [
    "inventor = pd.read_csv(\"https://s3.amazonaws.com/data.patentsview.org/download/g_inventor_not_disambiguated.tsv.zip\", sep=\"\\t\", dtype=str, compression=\"zip\")\n",
    "attorney = pd.read_csv(\"https://s3.amazonaws.com/data.patentsview.org/download/g_attorney_not_disambiguated.tsv.zip\", sep=\"\\t\", dtype=str, compression=\"zip\")\n",
    "location = pd.read_csv(\"https://s3.amazonaws.com/data.patentsview.org/download/g_location_not_disambiguated.tsv.zip\", sep=\"\\t\", dtype=str, compression=\"zip\")\n",
    "patent = pd.read_csv(\"https://s3.amazonaws.com/data.patentsview.org/download/g_patent.tsv.zip\", sep=\"\\t\", dtype=str, compression=\"zip\")\n",
    "application = pd.read_csv(\"https://s3.amazonaws.com/data.patentsview.org/download/g_application.tsv.zip\", sep=\"\\t\", dtype=str, compression=\"zip\")\n",
    "assignee = pd.read_csv(\"https://s3.amazonaws.com/data.patentsview.org/download/g_assignee_not_disambiguated.tsv.zip\", sep=\"\\t\", dtype=str, compression=\"zip\")\n",
    "cpc_current = pd.read_csv(\"https://s3.amazonaws.com/data.patentsview.org/download/g_cpc_current.tsv.zip\", sep=\"\\t\", dtype=str, compression=\"zip\")\n",
    "persistent_inventor = pd.read_csv(\"https://s3.amazonaws.com/data.patentsview.org/download/g_persistent_inventor.tsv.zip\", sep=\"\\t\", dtype=str, compression=\"zip\")"
   ]
  },
  {
   "cell_type": "code",
   "execution_count": null,
   "metadata": {},
   "outputs": [],
   "source": [
    "from pv_evaluation.benchmark import load_binette_2022_inventors_benchmark\n",
    "\n",
    "binette_benchmark = load_binette_2022_inventors_benchmark()"
   ]
  },
  {
   "attachments": {},
   "cell_type": "markdown",
   "metadata": {},
   "source": [
    "Add \"mention_id\""
   ]
  },
  {
   "cell_type": "code",
   "execution_count": null,
   "metadata": {},
   "outputs": [],
   "source": [
    "persistent_inventor['mention_id'] = \"US\" + persistent_inventor[\"patent_id\"] + \"-\" + persistent_inventor[\"sequence\"]\n",
    "inventor['mention_id'] = \"US\" + inventor[\"patent_id\"] + \"-\" + inventor[\"inventor_sequence\"]"
   ]
  },
  {
   "attachments": {},
   "cell_type": "markdown",
   "metadata": {},
   "source": [
    "Add block IDs"
   ]
  },
  {
   "cell_type": "code",
   "execution_count": null,
   "metadata": {},
   "outputs": [],
   "source": [
    "inventor[\"block\"] = inventor[\"inventor_id\"].str.replace(\"-[1-9]+\", \"\", regex=True)"
   ]
  },
  {
   "attachments": {},
   "cell_type": "markdown",
   "metadata": {},
   "source": [
    "### Subset inventor mentions to blocks which intersect benchmark"
   ]
  },
  {
   "cell_type": "code",
   "execution_count": null,
   "metadata": {},
   "outputs": [],
   "source": [
    "pv_disamb = persistent_inventor.set_index(\"mention_id\")[\"disamb_inventor_id_20211230\"]\n",
    "\n",
    "intersecting_blocks = inventor.set_index(\"mention_id\").loc[binette_benchmark.index.values, \"block\"]\n",
    "\n",
    "# Subset to sampled blocks\n",
    "inventor_subset = inventor[inventor[\"block\"].isin(intersecting_blocks)]\n",
    "\n",
    "# Subset to inventor mentions which appear in the 2022/12/31 disambiguation\n",
    "inventor_subset = inventor_subset[inventor_subset[\"mention_id\"].isin(pv_disamb.index)]"
   ]
  },
  {
   "attachments": {},
   "cell_type": "markdown",
   "metadata": {},
   "source": [
    "### Add features"
   ]
  },
  {
   "attachments": {},
   "cell_type": "markdown",
   "metadata": {},
   "source": [
    "#### Ground truth"
   ]
  },
  {
   "cell_type": "code",
   "execution_count": null,
   "metadata": {},
   "outputs": [],
   "source": [
    "# Add ground truth clusters as \"unique_id\"\n",
    "inventor_subset = inventor_subset.merge(binette_benchmark.reset_index(), on=\"mention_id\", how=\"left\")\n",
    "inventor_subset"
   ]
  },
  {
   "attachments": {},
   "cell_type": "markdown",
   "metadata": {},
   "source": [
    "#### Location"
   ]
  },
  {
   "cell_type": "code",
   "execution_count": null,
   "metadata": {},
   "outputs": [],
   "source": [
    "inventor_subset = inventor_subset.merge(location, on=\"rawlocation_id\", how=\"left\")\n",
    "inventor_subset"
   ]
  },
  {
   "attachments": {},
   "cell_type": "markdown",
   "metadata": {},
   "source": [
    "#### Attorney"
   ]
  },
  {
   "cell_type": "code",
   "execution_count": null,
   "metadata": {},
   "outputs": [],
   "source": [
    "attorney_subset = attorney[attorney[\"patent_id\"].isin(inventor_subset[\"patent_id\"])]\n",
    "attorney_by_patent = attorney_subset.groupby(\"patent_id\").agg({\n",
    "    \"raw_attorney_name_first\": list,\n",
    "    \"raw_attorney_name_last\": list,\n",
    "    \"raw_attorney_organization\": list,\n",
    "    \"attorney_country\": list,\n",
    "    \"attorney_sequence\": list\n",
    "})\n",
    "inventor_subset = inventor_subset.merge(attorney_by_patent, on=\"patent_id\", how=\"left\")\n",
    "inventor_subset"
   ]
  },
  {
   "attachments": {},
   "cell_type": "markdown",
   "metadata": {},
   "source": [
    "#### Patent information"
   ]
  },
  {
   "cell_type": "code",
   "execution_count": null,
   "metadata": {},
   "outputs": [],
   "source": [
    "patent_subset = patent[patent[\"patent_id\"].isin(inventor_subset[\"patent_id\"])]\n",
    "inventor_subset = inventor_subset.merge(patent_subset, on=\"patent_id\", how=\"left\")\n",
    "inventor_subset"
   ]
  },
  {
   "attachments": {},
   "cell_type": "markdown",
   "metadata": {},
   "source": [
    "#### Application"
   ]
  },
  {
   "cell_type": "code",
   "execution_count": null,
   "metadata": {},
   "outputs": [],
   "source": [
    "application_subset = application[application[\"patent_id\"].isin(inventor_subset[\"patent_id\"])]\n",
    "inventor_subset = inventor_subset.merge(application_subset, on=\"patent_id\", how=\"left\")\n",
    "inventor_subset"
   ]
  },
  {
   "attachments": {},
   "cell_type": "markdown",
   "metadata": {},
   "source": [
    "#### Assignees"
   ]
  },
  {
   "cell_type": "code",
   "execution_count": null,
   "metadata": {},
   "outputs": [],
   "source": [
    "assignee_subset = assignee[assignee[\"patent_id\"].isin(inventor_subset[\"patent_id\"])]\n",
    "\n",
    "assignee_by_patent = assignee_subset.groupby(\"patent_id\").agg({\n",
    "    \"assignee_sequence\":list,\n",
    "    \"raw_assignee_individual_name_first\":list,\n",
    "    \"raw_assignee_individual_name_last\":list,\n",
    "    \"raw_assignee_organization\": list,\n",
    "    \"assignee_type\":list\n",
    "})\n",
    "inventor_subset = inventor_subset.merge(assignee_by_patent, on=\"patent_id\", how=\"left\")\n",
    "inventor_subset"
   ]
  },
  {
   "attachments": {},
   "cell_type": "markdown",
   "metadata": {},
   "source": [
    "#### CPC"
   ]
  },
  {
   "cell_type": "code",
   "execution_count": null,
   "metadata": {},
   "outputs": [],
   "source": [
    "cpc_current_subset = cpc_current[cpc_current[\"patent_id\"].isin(inventor_subset[\"patent_id\"])]\n",
    "cpc_by_patent = cpc_current_subset.groupby(\"patent_id\").agg({\n",
    "    \"cpc_sequence\":list,\n",
    "    \"cpc_section\": list,\n",
    "    \"cpc_class\": list,\n",
    "    \"cpc_subclass\": list,\n",
    "    \"cpc_group\": list,\n",
    "    \"cpc_type\": list,\n",
    "})\n",
    "inventor_subset = inventor_subset.merge(cpc_by_patent, on=\"patent_id\", how=\"left\")\n",
    "inventor_subset"
   ]
  },
  {
   "attachments": {},
   "cell_type": "markdown",
   "metadata": {},
   "source": [
    "#### Co-inventors"
   ]
  },
  {
   "cell_type": "code",
   "execution_count": null,
   "metadata": {},
   "outputs": [],
   "source": [
    "coinventors_subset = inventor[inventor[\"patent_id\"].isin(inventor_subset[\"patent_id\"])]\n",
    "coinventors_by_patent = coinventors_subset.groupby(\"patent_id\").agg({\n",
    "    \"inventor_sequence\":list,\n",
    "    \"raw_inventor_name_first\": list,\n",
    "    \"raw_inventor_name_last\": list,\n",
    "})\n",
    "coinventors_by_patent = coinventors_by_patent.rename(columns={\n",
    "    \"inventor_sequence\": \"coinventor_sequence\",\n",
    "    \"raw_inventor_name_first\": \"coinventor_name_first\",\n",
    "    \"raw_inventor_name_last\": \"coinventor_name_last\"\n",
    "    })\n",
    "inventor_subset = inventor_subset.merge(coinventors_by_patent, on=\"patent_id\", how=\"left\")\n",
    "inventor_subset"
   ]
  },
  {
   "attachments": {},
   "cell_type": "markdown",
   "metadata": {},
   "source": [
    "## Export"
   ]
  },
  {
   "attachments": {},
   "cell_type": "markdown",
   "metadata": {},
   "source": [
    "#### Base data"
   ]
  },
  {
   "cell_type": "code",
   "execution_count": null,
   "metadata": {},
   "outputs": [],
   "source": [
    "data_columns = [\n",
    "    \"mention_id\",\n",
    "    \"block\",\n",
    "    \"patent_id\",\n",
    "    \"inventor_sequence\",\n",
    "    \"raw_inventor_name_first\",\n",
    "    \"raw_inventor_name_last\",\n",
    "    \"deceased_flag\",\n",
    "    \"raw_city\",\n",
    "    \"raw_state\",\n",
    "    \"raw_country\",\n",
    "    \"raw_attorney_name_first\",\n",
    "    \"raw_attorney_name_last\",\n",
    "    \"raw_attorney_organization\",\n",
    "    \"attorney_country\",\n",
    "    \"attorney_sequence\",\n",
    "    \"patent_type\",\n",
    "    \"patent_date\",\n",
    "    \"patent_title\",\n",
    "    \"patent_abstract\",\n",
    "    \"wipo_kind\",\n",
    "    \"num_claims\",\n",
    "    \"withdrawn\",\n",
    "    \"patent_application_type\",\n",
    "    \"filing_date\",\n",
    "    \"series_code\",\n",
    "    \"rule_47_flag\",\n",
    "    \"assignee_sequence\",\n",
    "    \"raw_assignee_individual_name_first\",\n",
    "    \"raw_assignee_individual_name_last\",\n",
    "    \"raw_assignee_organization\",\n",
    "    \"assignee_type\",\n",
    "    \"cpc_sequence\",\n",
    "    \"cpc_section\",\n",
    "    \"cpc_class\",\n",
    "    \"cpc_subclass\",\n",
    "    \"cpc_group\",\n",
    "    \"cpc_type\",\n",
    "    \"coinventor_sequence\",\n",
    "    \"coinventor_name_first\",\n",
    "    \"coinventor_name_last\"\n",
    "]\n",
    "\n",
    "inventor_subset[data_columns].to_parquet(\"pv-data.parquet\", engine=\"pyarrow\", index=False)"
   ]
  },
  {
   "attachments": {},
   "cell_type": "markdown",
   "metadata": {},
   "source": [
    "#### Reference disambiguation"
   ]
  },
  {
   "cell_type": "code",
   "execution_count": null,
   "metadata": {},
   "outputs": [],
   "source": [
    "inventor_subset[[\"mention_id\", \"unique_id\"]].to_parquet(\"pv-reference.parquet\", engine=\"pyarrow\", index=False)"
   ]
  },
  {
   "attachments": {},
   "cell_type": "markdown",
   "metadata": {},
   "source": [
    "#### Predictions"
   ]
  },
  {
   "cell_type": "code",
   "execution_count": null,
   "metadata": {},
   "outputs": [],
   "source": [
    "persistent_inventor_subset = persistent_inventor[persistent_inventor[\"mention_id\"].isin(inventor_subset[\"mention_id\"])]"
   ]
  },
  {
   "cell_type": "code",
   "execution_count": null,
   "metadata": {},
   "outputs": [],
   "source": [
    "persistent_inventor_subset.to_parquet(\"pv-predictions.parquet\", engine=\"pyarrow\", index=False)"
   ]
  }
 ],
 "metadata": {
  "kernelspec": {
   "display_name": "pv-error-analysis",
   "language": "python",
   "name": "python3"
  },
  "language_info": {
   "codemirror_mode": {
    "name": "ipython",
    "version": 3
   },
   "file_extension": ".py",
   "mimetype": "text/x-python",
   "name": "python",
   "nbconvert_exporter": "python",
   "pygments_lexer": "ipython3",
   "version": "3.10.8"
  },
  "orig_nbformat": 4,
  "vscode": {
   "interpreter": {
    "hash": "11aa25fbe22a8f15b2e542a2c179b141b4290e2015352657ae74b66cd48eee9b"
   }
  }
 },
 "nbformat": 4,
 "nbformat_minor": 2
}
