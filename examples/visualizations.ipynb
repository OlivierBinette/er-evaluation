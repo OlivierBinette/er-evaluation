{
 "cells": [
  {
   "cell_type": "code",
   "execution_count": 1,
   "metadata": {},
   "outputs": [],
   "source": [
    "from er_evaluation.datasets import load_pv_disambiguations, load_pv_data\n",
    "\n",
    "predictions, reference = load_pv_disambiguations()\n",
    "\n",
    "pv_data = load_pv_data()\n",
    "pv_data.set_index(\"mention_id\", inplace=True)\n",
    "names = pv_data[\"raw_inventor_name_first\"] + \" \" + pv_data[\"raw_inventor_name_last\"]"
   ]
  },
  {
   "attachments": {},
   "cell_type": "markdown",
   "metadata": {},
   "source": [
    "## Summary Statistics"
   ]
  },
  {
   "cell_type": "code",
   "execution_count": 2,
   "metadata": {},
   "outputs": [
    {
     "data": {
      "application/vnd.plotly.v1+json": {
       "config": {
        "plotlyServerURL": "https://plot.ly"
       },
       "data": [
        {
         "hovertemplate": "prediction=%{x}<br>average_cluster_size=%{y}<extra></extra>",
         "legendgroup": "",
         "line": {
          "color": "#636efa",
          "dash": "solid",
          "shape": "spline"
         },
         "marker": {
          "symbol": "circle"
         },
         "mode": "markers+lines",
         "name": "",
         "orientation": "v",
         "showlegend": false,
         "type": "scatter",
         "x": [
          "2017-08-08T00:00:00",
          "2017-10-03T00:00:00",
          "2017-12-26T00:00:00",
          "2018-05-28T00:00:00",
          "2018-11-27T00:00:00",
          "2019-03-12T00:00:00",
          "2019-08-20T00:00:00",
          "2019-10-08T00:00:00",
          "2019-12-31T00:00:00",
          "2020-03-31T00:00:00",
          "2020-06-30T00:00:00",
          "2020-09-29T00:00:00",
          "2020-12-29T00:00:00",
          "2021-12-30T00:00:00",
          "2022-06-30T00:00:00"
         ],
         "xaxis": "x",
         "y": [
          7.523881392045454,
          7.21922400067041,
          5.596246819338423,
          6.443396890170971,
          6.979681013764474,
          7.234293290123002,
          7.477880620945995,
          7.538751540636555,
          7.608161223468877,
          7.647505270555165,
          7.777762305924946,
          6.206911879097677,
          9.96020159888773,
          8.08859736383984,
          10.787704984247515
         ],
         "yaxis": "y"
        },
        {
         "hovertemplate": "prediction=%{x}<br>matching_rate=%{y}<extra></extra>",
         "legendgroup": "",
         "line": {
          "color": "#636efa",
          "dash": "solid",
          "shape": "spline"
         },
         "marker": {
          "symbol": "circle"
         },
         "mode": "markers+lines",
         "name": "",
         "orientation": "v",
         "showlegend": false,
         "type": "scatter",
         "x": [
          "2017-08-08T00:00:00",
          "2017-10-03T00:00:00",
          "2017-12-26T00:00:00",
          "2018-05-28T00:00:00",
          "2018-11-27T00:00:00",
          "2019-03-12T00:00:00",
          "2019-08-20T00:00:00",
          "2019-10-08T00:00:00",
          "2019-12-31T00:00:00",
          "2020-03-31T00:00:00",
          "2020-06-30T00:00:00",
          "2020-09-29T00:00:00",
          "2020-12-29T00:00:00",
          "2021-12-30T00:00:00",
          "2022-06-30T00:00:00"
         ],
         "xaxis": "x2",
         "y": [
          0.939586307803042,
          0.9359931280253521,
          0.9055619337751356,
          0.923629613452719,
          0.9315511592478974,
          0.9356953777234779,
          0.9383064987719777,
          0.9389605893327692,
          0.9398465165647514,
          0.940031610674116,
          0.9411164422801489,
          0.9077449154969922,
          0.9675106000593254,
          0.9431116782093361,
          0.9713346462884058
         ],
         "yaxis": "y2"
        },
        {
         "hovertemplate": "prediction=%{x}<br>H0=%{y}<extra></extra>",
         "legendgroup": "",
         "line": {
          "color": "#636efa",
          "dash": "solid",
          "shape": "spline"
         },
         "marker": {
          "symbol": "circle"
         },
         "mode": "markers+lines",
         "name": "",
         "orientation": "v",
         "showlegend": false,
         "type": "scatter",
         "x": [
          "2017-08-08T00:00:00",
          "2017-10-03T00:00:00",
          "2017-12-26T00:00:00",
          "2018-05-28T00:00:00",
          "2018-11-27T00:00:00",
          "2019-03-12T00:00:00",
          "2019-08-20T00:00:00",
          "2019-10-08T00:00:00",
          "2019-12-31T00:00:00",
          "2020-03-31T00:00:00",
          "2020-06-30T00:00:00",
          "2020-09-29T00:00:00",
          "2020-12-29T00:00:00",
          "2021-12-30T00:00:00",
          "2022-06-30T00:00:00"
         ],
         "xaxis": "x3",
         "y": [
          171,
          168,
          166,
          179,
          175,
          181,
          189,
          195,
          194,
          193,
          200,
          198,
          193,
          207,
          210
         ],
         "yaxis": "y3"
        },
        {
         "hovertemplate": "prediction=%{x}<br>H1=%{y}<extra></extra>",
         "legendgroup": "",
         "line": {
          "color": "#636efa",
          "dash": "solid",
          "shape": "spline"
         },
         "marker": {
          "symbol": "circle"
         },
         "mode": "markers+lines",
         "name": "",
         "orientation": "v",
         "showlegend": false,
         "type": "scatter",
         "x": [
          "2017-08-08T00:00:00",
          "2017-10-03T00:00:00",
          "2017-12-26T00:00:00",
          "2018-05-28T00:00:00",
          "2018-11-27T00:00:00",
          "2019-03-12T00:00:00",
          "2019-08-20T00:00:00",
          "2019-10-08T00:00:00",
          "2019-12-31T00:00:00",
          "2020-03-31T00:00:00",
          "2020-06-30T00:00:00",
          "2020-09-29T00:00:00",
          "2020-12-29T00:00:00",
          "2021-12-30T00:00:00",
          "2022-06-30T00:00:00"
         ],
         "xaxis": "x4",
         "y": [
          9.595842527724987,
          9.232390077753198,
          7.486484051752622,
          8.6005526077469,
          9.268208213114955,
          9.646602178980453,
          9.896394599509955,
          9.927226750925023,
          10.03874125853286,
          10.043638848656709,
          10.10141839893877,
          7.0752844357686575,
          16.374402931686124,
          10.98773626263287,
          17.594994005746447
         ],
         "yaxis": "y4"
        },
        {
         "hovertemplate": "prediction=%{x}<br>name_variation_rate=%{y}<extra></extra>",
         "legendgroup": "",
         "line": {
          "color": "#636efa",
          "dash": "solid",
          "shape": "spline"
         },
         "marker": {
          "symbol": "circle"
         },
         "mode": "markers+lines",
         "name": "",
         "orientation": "v",
         "showlegend": false,
         "type": "scatter",
         "x": [
          "2017-08-08T00:00:00",
          "2017-10-03T00:00:00",
          "2017-12-26T00:00:00",
          "2018-05-28T00:00:00",
          "2018-11-27T00:00:00",
          "2019-03-12T00:00:00",
          "2019-08-20T00:00:00",
          "2019-10-08T00:00:00",
          "2019-12-31T00:00:00",
          "2020-03-31T00:00:00",
          "2020-06-30T00:00:00",
          "2020-09-29T00:00:00",
          "2020-12-29T00:00:00",
          "2021-12-30T00:00:00",
          "2022-06-30T00:00:00"
         ],
         "xaxis": "x5",
         "y": [
          0.14710582386363635,
          0.1465683398977625,
          0.09790076335877862,
          0.1165130514317878,
          0.12621076396475128,
          0.13103041909110996,
          0.13431965600174914,
          0.1341260059450446,
          0.1340670335167584,
          0.13408292340126493,
          0.13604400194945346,
          0.10656739637737526,
          0.24070212026416407,
          0.18453121114150708,
          0.24670813474432507
         ],
         "yaxis": "y5"
        },
        {
         "hovertemplate": "prediction=%{x}<br>homonymy_rate=%{y}<extra></extra>",
         "legendgroup": "",
         "line": {
          "color": "#636efa",
          "dash": "solid",
          "shape": "spline"
         },
         "marker": {
          "symbol": "circle"
         },
         "mode": "markers+lines",
         "name": "",
         "orientation": "v",
         "showlegend": false,
         "type": "scatter",
         "x": [
          "2017-08-08T00:00:00",
          "2017-10-03T00:00:00",
          "2017-12-26T00:00:00",
          "2018-05-28T00:00:00",
          "2018-11-27T00:00:00",
          "2019-03-12T00:00:00",
          "2019-08-20T00:00:00",
          "2019-10-08T00:00:00",
          "2019-12-31T00:00:00",
          "2020-03-31T00:00:00",
          "2020-06-30T00:00:00",
          "2020-09-29T00:00:00",
          "2020-12-29T00:00:00",
          "2021-12-30T00:00:00",
          "2022-06-30T00:00:00"
         ],
         "xaxis": "x6",
         "y": [
          0.6199396306818182,
          0.6384815218302187,
          0.6878498727735369,
          0.6382185323295575,
          0.6061466754060156,
          0.5941666052883553,
          0.5773631659500037,
          0.5765243239324295,
          0.5696419638390624,
          0.567111735769501,
          0.5599108821276892,
          0.6717413045893988,
          0.4348279457768509,
          0.49807261875155434,
          0.19767347927942483
         ],
         "yaxis": "y6"
        }
       ],
       "layout": {
        "annotations": [
         {
          "font": {
           "size": 14
          },
          "showarrow": false,
          "text": "Average Cluster Size",
          "x": 0.225,
          "xanchor": "center",
          "xref": "paper",
          "y": 1,
          "yanchor": "bottom",
          "yref": "paper"
         },
         {
          "font": {
           "size": 14
          },
          "showarrow": false,
          "text": "Matching Rate",
          "x": 0.775,
          "xanchor": "center",
          "xref": "paper",
          "y": 1,
          "yanchor": "bottom",
          "yref": "paper"
         },
         {
          "font": {
           "size": 14
          },
          "showarrow": false,
          "text": "Number of distinct cluster sizes",
          "x": 0.225,
          "xanchor": "center",
          "xref": "paper",
          "y": 0.6111111111111112,
          "yanchor": "bottom",
          "yref": "paper"
         },
         {
          "font": {
           "size": 14
          },
          "showarrow": false,
          "text": "Entropy",
          "x": 0.775,
          "xanchor": "center",
          "xref": "paper",
          "y": 0.6111111111111112,
          "yanchor": "bottom",
          "yref": "paper"
         },
         {
          "font": {
           "size": 14
          },
          "showarrow": false,
          "text": "Name Variation Rate",
          "x": 0.225,
          "xanchor": "center",
          "xref": "paper",
          "y": 0.22222222222222224,
          "yanchor": "bottom",
          "yref": "paper"
         },
         {
          "font": {
           "size": 14
          },
          "showarrow": false,
          "text": "Homonymy Rate",
          "x": 0.775,
          "xanchor": "center",
          "xref": "paper",
          "y": 0.22222222222222224,
          "yanchor": "bottom",
          "yref": "paper"
         }
        ],
        "template": {
         "data": {
          "bar": [
           {
            "error_x": {
             "color": "#2a3f5f"
            },
            "error_y": {
             "color": "#2a3f5f"
            },
            "marker": {
             "line": {
              "color": "#E5ECF6",
              "width": 0.5
             },
             "pattern": {
              "fillmode": "overlay",
              "size": 10,
              "solidity": 0.2
             }
            },
            "type": "bar"
           }
          ],
          "barpolar": [
           {
            "marker": {
             "line": {
              "color": "#E5ECF6",
              "width": 0.5
             },
             "pattern": {
              "fillmode": "overlay",
              "size": 10,
              "solidity": 0.2
             }
            },
            "type": "barpolar"
           }
          ],
          "carpet": [
           {
            "aaxis": {
             "endlinecolor": "#2a3f5f",
             "gridcolor": "white",
             "linecolor": "white",
             "minorgridcolor": "white",
             "startlinecolor": "#2a3f5f"
            },
            "baxis": {
             "endlinecolor": "#2a3f5f",
             "gridcolor": "white",
             "linecolor": "white",
             "minorgridcolor": "white",
             "startlinecolor": "#2a3f5f"
            },
            "type": "carpet"
           }
          ],
          "choropleth": [
           {
            "colorbar": {
             "outlinewidth": 0,
             "ticks": ""
            },
            "type": "choropleth"
           }
          ],
          "contour": [
           {
            "colorbar": {
             "outlinewidth": 0,
             "ticks": ""
            },
            "colorscale": [
             [
              0,
              "#0d0887"
             ],
             [
              0.1111111111111111,
              "#46039f"
             ],
             [
              0.2222222222222222,
              "#7201a8"
             ],
             [
              0.3333333333333333,
              "#9c179e"
             ],
             [
              0.4444444444444444,
              "#bd3786"
             ],
             [
              0.5555555555555556,
              "#d8576b"
             ],
             [
              0.6666666666666666,
              "#ed7953"
             ],
             [
              0.7777777777777778,
              "#fb9f3a"
             ],
             [
              0.8888888888888888,
              "#fdca26"
             ],
             [
              1,
              "#f0f921"
             ]
            ],
            "type": "contour"
           }
          ],
          "contourcarpet": [
           {
            "colorbar": {
             "outlinewidth": 0,
             "ticks": ""
            },
            "type": "contourcarpet"
           }
          ],
          "heatmap": [
           {
            "colorbar": {
             "outlinewidth": 0,
             "ticks": ""
            },
            "colorscale": [
             [
              0,
              "#0d0887"
             ],
             [
              0.1111111111111111,
              "#46039f"
             ],
             [
              0.2222222222222222,
              "#7201a8"
             ],
             [
              0.3333333333333333,
              "#9c179e"
             ],
             [
              0.4444444444444444,
              "#bd3786"
             ],
             [
              0.5555555555555556,
              "#d8576b"
             ],
             [
              0.6666666666666666,
              "#ed7953"
             ],
             [
              0.7777777777777778,
              "#fb9f3a"
             ],
             [
              0.8888888888888888,
              "#fdca26"
             ],
             [
              1,
              "#f0f921"
             ]
            ],
            "type": "heatmap"
           }
          ],
          "heatmapgl": [
           {
            "colorbar": {
             "outlinewidth": 0,
             "ticks": ""
            },
            "colorscale": [
             [
              0,
              "#0d0887"
             ],
             [
              0.1111111111111111,
              "#46039f"
             ],
             [
              0.2222222222222222,
              "#7201a8"
             ],
             [
              0.3333333333333333,
              "#9c179e"
             ],
             [
              0.4444444444444444,
              "#bd3786"
             ],
             [
              0.5555555555555556,
              "#d8576b"
             ],
             [
              0.6666666666666666,
              "#ed7953"
             ],
             [
              0.7777777777777778,
              "#fb9f3a"
             ],
             [
              0.8888888888888888,
              "#fdca26"
             ],
             [
              1,
              "#f0f921"
             ]
            ],
            "type": "heatmapgl"
           }
          ],
          "histogram": [
           {
            "marker": {
             "pattern": {
              "fillmode": "overlay",
              "size": 10,
              "solidity": 0.2
             }
            },
            "type": "histogram"
           }
          ],
          "histogram2d": [
           {
            "colorbar": {
             "outlinewidth": 0,
             "ticks": ""
            },
            "colorscale": [
             [
              0,
              "#0d0887"
             ],
             [
              0.1111111111111111,
              "#46039f"
             ],
             [
              0.2222222222222222,
              "#7201a8"
             ],
             [
              0.3333333333333333,
              "#9c179e"
             ],
             [
              0.4444444444444444,
              "#bd3786"
             ],
             [
              0.5555555555555556,
              "#d8576b"
             ],
             [
              0.6666666666666666,
              "#ed7953"
             ],
             [
              0.7777777777777778,
              "#fb9f3a"
             ],
             [
              0.8888888888888888,
              "#fdca26"
             ],
             [
              1,
              "#f0f921"
             ]
            ],
            "type": "histogram2d"
           }
          ],
          "histogram2dcontour": [
           {
            "colorbar": {
             "outlinewidth": 0,
             "ticks": ""
            },
            "colorscale": [
             [
              0,
              "#0d0887"
             ],
             [
              0.1111111111111111,
              "#46039f"
             ],
             [
              0.2222222222222222,
              "#7201a8"
             ],
             [
              0.3333333333333333,
              "#9c179e"
             ],
             [
              0.4444444444444444,
              "#bd3786"
             ],
             [
              0.5555555555555556,
              "#d8576b"
             ],
             [
              0.6666666666666666,
              "#ed7953"
             ],
             [
              0.7777777777777778,
              "#fb9f3a"
             ],
             [
              0.8888888888888888,
              "#fdca26"
             ],
             [
              1,
              "#f0f921"
             ]
            ],
            "type": "histogram2dcontour"
           }
          ],
          "mesh3d": [
           {
            "colorbar": {
             "outlinewidth": 0,
             "ticks": ""
            },
            "type": "mesh3d"
           }
          ],
          "parcoords": [
           {
            "line": {
             "colorbar": {
              "outlinewidth": 0,
              "ticks": ""
             }
            },
            "type": "parcoords"
           }
          ],
          "pie": [
           {
            "automargin": true,
            "type": "pie"
           }
          ],
          "scatter": [
           {
            "fillpattern": {
             "fillmode": "overlay",
             "size": 10,
             "solidity": 0.2
            },
            "type": "scatter"
           }
          ],
          "scatter3d": [
           {
            "line": {
             "colorbar": {
              "outlinewidth": 0,
              "ticks": ""
             }
            },
            "marker": {
             "colorbar": {
              "outlinewidth": 0,
              "ticks": ""
             }
            },
            "type": "scatter3d"
           }
          ],
          "scattercarpet": [
           {
            "marker": {
             "colorbar": {
              "outlinewidth": 0,
              "ticks": ""
             }
            },
            "type": "scattercarpet"
           }
          ],
          "scattergeo": [
           {
            "marker": {
             "colorbar": {
              "outlinewidth": 0,
              "ticks": ""
             }
            },
            "type": "scattergeo"
           }
          ],
          "scattergl": [
           {
            "marker": {
             "colorbar": {
              "outlinewidth": 0,
              "ticks": ""
             }
            },
            "type": "scattergl"
           }
          ],
          "scattermapbox": [
           {
            "marker": {
             "colorbar": {
              "outlinewidth": 0,
              "ticks": ""
             }
            },
            "type": "scattermapbox"
           }
          ],
          "scatterpolar": [
           {
            "marker": {
             "colorbar": {
              "outlinewidth": 0,
              "ticks": ""
             }
            },
            "type": "scatterpolar"
           }
          ],
          "scatterpolargl": [
           {
            "marker": {
             "colorbar": {
              "outlinewidth": 0,
              "ticks": ""
             }
            },
            "type": "scatterpolargl"
           }
          ],
          "scatterternary": [
           {
            "marker": {
             "colorbar": {
              "outlinewidth": 0,
              "ticks": ""
             }
            },
            "type": "scatterternary"
           }
          ],
          "surface": [
           {
            "colorbar": {
             "outlinewidth": 0,
             "ticks": ""
            },
            "colorscale": [
             [
              0,
              "#0d0887"
             ],
             [
              0.1111111111111111,
              "#46039f"
             ],
             [
              0.2222222222222222,
              "#7201a8"
             ],
             [
              0.3333333333333333,
              "#9c179e"
             ],
             [
              0.4444444444444444,
              "#bd3786"
             ],
             [
              0.5555555555555556,
              "#d8576b"
             ],
             [
              0.6666666666666666,
              "#ed7953"
             ],
             [
              0.7777777777777778,
              "#fb9f3a"
             ],
             [
              0.8888888888888888,
              "#fdca26"
             ],
             [
              1,
              "#f0f921"
             ]
            ],
            "type": "surface"
           }
          ],
          "table": [
           {
            "cells": {
             "fill": {
              "color": "#EBF0F8"
             },
             "line": {
              "color": "white"
             }
            },
            "header": {
             "fill": {
              "color": "#C8D4E3"
             },
             "line": {
              "color": "white"
             }
            },
            "type": "table"
           }
          ]
         },
         "layout": {
          "annotationdefaults": {
           "arrowcolor": "#2a3f5f",
           "arrowhead": 0,
           "arrowwidth": 1
          },
          "autotypenumbers": "strict",
          "coloraxis": {
           "colorbar": {
            "outlinewidth": 0,
            "ticks": ""
           }
          },
          "colorscale": {
           "diverging": [
            [
             0,
             "#8e0152"
            ],
            [
             0.1,
             "#c51b7d"
            ],
            [
             0.2,
             "#de77ae"
            ],
            [
             0.3,
             "#f1b6da"
            ],
            [
             0.4,
             "#fde0ef"
            ],
            [
             0.5,
             "#f7f7f7"
            ],
            [
             0.6,
             "#e6f5d0"
            ],
            [
             0.7,
             "#b8e186"
            ],
            [
             0.8,
             "#7fbc41"
            ],
            [
             0.9,
             "#4d9221"
            ],
            [
             1,
             "#276419"
            ]
           ],
           "sequential": [
            [
             0,
             "#0d0887"
            ],
            [
             0.1111111111111111,
             "#46039f"
            ],
            [
             0.2222222222222222,
             "#7201a8"
            ],
            [
             0.3333333333333333,
             "#9c179e"
            ],
            [
             0.4444444444444444,
             "#bd3786"
            ],
            [
             0.5555555555555556,
             "#d8576b"
            ],
            [
             0.6666666666666666,
             "#ed7953"
            ],
            [
             0.7777777777777778,
             "#fb9f3a"
            ],
            [
             0.8888888888888888,
             "#fdca26"
            ],
            [
             1,
             "#f0f921"
            ]
           ],
           "sequentialminus": [
            [
             0,
             "#0d0887"
            ],
            [
             0.1111111111111111,
             "#46039f"
            ],
            [
             0.2222222222222222,
             "#7201a8"
            ],
            [
             0.3333333333333333,
             "#9c179e"
            ],
            [
             0.4444444444444444,
             "#bd3786"
            ],
            [
             0.5555555555555556,
             "#d8576b"
            ],
            [
             0.6666666666666666,
             "#ed7953"
            ],
            [
             0.7777777777777778,
             "#fb9f3a"
            ],
            [
             0.8888888888888888,
             "#fdca26"
            ],
            [
             1,
             "#f0f921"
            ]
           ]
          },
          "colorway": [
           "#636efa",
           "#EF553B",
           "#00cc96",
           "#ab63fa",
           "#FFA15A",
           "#19d3f3",
           "#FF6692",
           "#B6E880",
           "#FF97FF",
           "#FECB52"
          ],
          "font": {
           "color": "#2a3f5f"
          },
          "geo": {
           "bgcolor": "white",
           "lakecolor": "white",
           "landcolor": "#E5ECF6",
           "showlakes": true,
           "showland": true,
           "subunitcolor": "white"
          },
          "hoverlabel": {
           "align": "left"
          },
          "hovermode": "closest",
          "mapbox": {
           "style": "light"
          },
          "paper_bgcolor": "white",
          "plot_bgcolor": "#E5ECF6",
          "polar": {
           "angularaxis": {
            "gridcolor": "white",
            "linecolor": "white",
            "ticks": ""
           },
           "bgcolor": "#E5ECF6",
           "radialaxis": {
            "gridcolor": "white",
            "linecolor": "white",
            "ticks": ""
           }
          },
          "scene": {
           "xaxis": {
            "backgroundcolor": "#E5ECF6",
            "gridcolor": "white",
            "gridwidth": 2,
            "linecolor": "white",
            "showbackground": true,
            "ticks": "",
            "zerolinecolor": "white"
           },
           "yaxis": {
            "backgroundcolor": "#E5ECF6",
            "gridcolor": "white",
            "gridwidth": 2,
            "linecolor": "white",
            "showbackground": true,
            "ticks": "",
            "zerolinecolor": "white"
           },
           "zaxis": {
            "backgroundcolor": "#E5ECF6",
            "gridcolor": "white",
            "gridwidth": 2,
            "linecolor": "white",
            "showbackground": true,
            "ticks": "",
            "zerolinecolor": "white"
           }
          },
          "shapedefaults": {
           "line": {
            "color": "#2a3f5f"
           }
          },
          "ternary": {
           "aaxis": {
            "gridcolor": "white",
            "linecolor": "white",
            "ticks": ""
           },
           "baxis": {
            "gridcolor": "white",
            "linecolor": "white",
            "ticks": ""
           },
           "bgcolor": "#E5ECF6",
           "caxis": {
            "gridcolor": "white",
            "linecolor": "white",
            "ticks": ""
           }
          },
          "title": {
           "x": 0.05
          },
          "xaxis": {
           "automargin": true,
           "gridcolor": "white",
           "linecolor": "white",
           "ticks": "",
           "title": {
            "standoff": 15
           },
           "zerolinecolor": "white",
           "zerolinewidth": 2
          },
          "yaxis": {
           "automargin": true,
           "gridcolor": "white",
           "linecolor": "white",
           "ticks": "",
           "title": {
            "standoff": 15
           },
           "zerolinecolor": "white",
           "zerolinewidth": 2
          }
         }
        },
        "title": {
         "text": "Disambiguation Summary Statistics"
        },
        "xaxis": {
         "anchor": "y",
         "domain": [
          0,
          0.45
         ],
         "matches": "x5",
         "showticklabels": false
        },
        "xaxis2": {
         "anchor": "y2",
         "domain": [
          0.55,
          1
         ],
         "matches": "x6",
         "showticklabels": false
        },
        "xaxis3": {
         "anchor": "y3",
         "domain": [
          0,
          0.45
         ],
         "matches": "x5",
         "showticklabels": false
        },
        "xaxis4": {
         "anchor": "y4",
         "domain": [
          0.55,
          1
         ],
         "matches": "x6",
         "showticklabels": false
        },
        "xaxis5": {
         "anchor": "y5",
         "domain": [
          0,
          0.45
         ]
        },
        "xaxis6": {
         "anchor": "y6",
         "domain": [
          0.55,
          1
         ]
        },
        "yaxis": {
         "anchor": "x",
         "domain": [
          0.7777777777777778,
          1
         ]
        },
        "yaxis2": {
         "anchor": "x2",
         "domain": [
          0.7777777777777778,
          1
         ]
        },
        "yaxis3": {
         "anchor": "x3",
         "domain": [
          0.3888888888888889,
          0.6111111111111112
         ]
        },
        "yaxis4": {
         "anchor": "x4",
         "domain": [
          0.3888888888888889,
          0.6111111111111112
         ]
        },
        "yaxis5": {
         "anchor": "x5",
         "domain": [
          0,
          0.22222222222222224
         ]
        },
        "yaxis6": {
         "anchor": "x6",
         "domain": [
          0,
          0.22222222222222224
         ]
        }
       }
      }
     },
     "metadata": {},
     "output_type": "display_data"
    }
   ],
   "source": [
    "from er_evaluation.plots import plot_summaries\n",
    "\n",
    "plot_summaries(predictions, names)"
   ]
  },
  {
   "attachments": {},
   "cell_type": "markdown",
   "metadata": {},
   "source": [
    "## Performance Estimates"
   ]
  },
  {
   "cell_type": "code",
   "execution_count": 3,
   "metadata": {},
   "outputs": [
    {
     "data": {
      "application/vnd.plotly.v1+json": {
       "config": {
        "plotlyServerURL": "https://plot.ly"
       },
       "data": [
        {
         "error_y": {
          "array": [
           0.10762619520264015,
           0.1142324422678103,
           0.02698004077133444,
           0.03381070420801756,
           0.0320899505352943,
           0.035475944019098905,
           0.03427816925552073,
           0.04000770726651419,
           0.03756962736731358,
           0.038230988152601494,
           0.0397278494731223,
           0.04045813207888103,
           0.01906471932647911,
           0.018619907220335144,
           0.01738886559725446
          ]
         },
         "hovertemplate": "estimator=Pairwise precision<br>prediction=%{x}<br>value=%{y}<extra></extra>",
         "legendgroup": "Pairwise precision",
         "line": {
          "color": "#636efa",
          "dash": "solid",
          "shape": "spline"
         },
         "marker": {
          "symbol": "circle"
         },
         "mode": "markers+lines",
         "name": "Pairwise precision",
         "orientation": "v",
         "showlegend": true,
         "type": "scatter",
         "x": [
          "2017-08-08T00:00:00",
          "2017-10-03T00:00:00",
          "2017-12-26T00:00:00",
          "2018-05-28T00:00:00",
          "2018-11-27T00:00:00",
          "2019-03-12T00:00:00",
          "2019-08-20T00:00:00",
          "2019-10-08T00:00:00",
          "2019-12-31T00:00:00",
          "2020-03-31T00:00:00",
          "2020-06-30T00:00:00",
          "2020-09-29T00:00:00",
          "2020-12-29T00:00:00",
          "2021-12-30T00:00:00",
          "2022-06-30T00:00:00"
         ],
         "xaxis": "x",
         "y": [
          0.5682905929738009,
          0.5614532661533171,
          0.9177507115333738,
          0.878487421180332,
          0.876664044828819,
          0.871523346373805,
          0.8563773235431499,
          0.8513799572091044,
          0.8653184769196983,
          0.8675474079481227,
          0.8589447378261852,
          0.8637717722052076,
          0.9087541920717165,
          0.9131787709880134,
          0.8833020990513186
         ],
         "yaxis": "y"
        },
        {
         "error_y": {
          "array": [
           0.009079820667823224,
           0.00947807155601479,
           0.013453459306887966,
           0.011712196677701488,
           0.009040555491341291,
           0.008749829751196963,
           0.008450587693735403,
           0.008360908204680561,
           0.0076184024724682735,
           0.008174687281233073,
           0.010920455726640235,
           0.007115754929906799,
           0.007292672492959637,
           0.008784244414644683,
           0.007237279742788284
          ]
         },
         "hovertemplate": "estimator=Pairwise recall<br>prediction=%{x}<br>value=%{y}<extra></extra>",
         "legendgroup": "Pairwise recall",
         "line": {
          "color": "#EF553B",
          "dash": "solid",
          "shape": "spline"
         },
         "marker": {
          "symbol": "circle"
         },
         "mode": "markers+lines",
         "name": "Pairwise recall",
         "orientation": "v",
         "showlegend": true,
         "type": "scatter",
         "x": [
          "2017-08-08T00:00:00",
          "2017-10-03T00:00:00",
          "2017-12-26T00:00:00",
          "2018-05-28T00:00:00",
          "2018-11-27T00:00:00",
          "2019-03-12T00:00:00",
          "2019-08-20T00:00:00",
          "2019-10-08T00:00:00",
          "2019-12-31T00:00:00",
          "2020-03-31T00:00:00",
          "2020-06-30T00:00:00",
          "2020-09-29T00:00:00",
          "2020-12-29T00:00:00",
          "2021-12-30T00:00:00",
          "2022-06-30T00:00:00"
         ],
         "xaxis": "x",
         "y": [
          0.9610920825379785,
          0.9541269644954581,
          0.9166311090252167,
          0.942536009220433,
          0.9570321976537539,
          0.9601746830047234,
          0.962040886261,
          0.9627747512149712,
          0.9653411752888007,
          0.9622775797659693,
          0.9514561547643773,
          0.8966542126263876,
          0.9761365985333893,
          0.9622075140463208,
          0.9770477584915793
         ],
         "yaxis": "y"
        },
        {
         "error_y": {
          "array": [
           0.01690658602482797,
           0.016445003615548376,
           0.011356143808763612,
           0.011273096926956928,
           0.015120383219038079,
           0.014343148296591082,
           0.015730203946356026,
           0.013921527728126501,
           0.01418697867364885,
           0.012288829289822866,
           0.012540180037299929,
           0.014231533512841519,
           0.016667515463667112,
           0.015360339744531241,
           0.019149055554513596
          ]
         },
         "hovertemplate": "estimator=B3 precision<br>prediction=%{x}<br>value=%{y}<extra></extra>",
         "legendgroup": "B3 precision",
         "line": {
          "color": "#00cc96",
          "dash": "solid",
          "shape": "spline"
         },
         "marker": {
          "symbol": "circle"
         },
         "mode": "markers+lines",
         "name": "B3 precision",
         "orientation": "v",
         "showlegend": true,
         "type": "scatter",
         "x": [
          "2017-08-08T00:00:00",
          "2017-10-03T00:00:00",
          "2017-12-26T00:00:00",
          "2018-05-28T00:00:00",
          "2018-11-27T00:00:00",
          "2019-03-12T00:00:00",
          "2019-08-20T00:00:00",
          "2019-10-08T00:00:00",
          "2019-12-31T00:00:00",
          "2020-03-31T00:00:00",
          "2020-06-30T00:00:00",
          "2020-09-29T00:00:00",
          "2020-12-29T00:00:00",
          "2021-12-30T00:00:00",
          "2022-06-30T00:00:00"
         ],
         "xaxis": "x",
         "y": [
          0.9279224489735224,
          0.92973482917883,
          0.9548838553533087,
          0.9459475200672346,
          0.9262235719709776,
          0.9309659861507664,
          0.9205167082190677,
          0.9344779679721646,
          0.9246741145169581,
          0.935578283138693,
          0.9369920437708436,
          0.9348295664641992,
          0.9161308871615819,
          0.9247770491400168,
          0.8953357183958793
         ],
         "yaxis": "y"
        },
        {
         "error_y": {
          "array": [
           0.007371161106855232,
           0.007746377542922137,
           0.009892458597374518,
           0.008376355656012765,
           0.00781014632635574,
           0.00759592351152062,
           0.0077650267726959935,
           0.007885126105981643,
           0.008009475519816716,
           0.007884887056724502,
           0.00773919484184308,
           0.009740844186690556,
           0.003956471138752684,
           0.0035916674654659806,
           0.004212395614102911
          ]
         },
         "hovertemplate": "estimator=B3 recall<br>prediction=%{x}<br>value=%{y}<extra></extra>",
         "legendgroup": "B3 recall",
         "line": {
          "color": "#ab63fa",
          "dash": "solid",
          "shape": "spline"
         },
         "marker": {
          "symbol": "circle"
         },
         "mode": "markers+lines",
         "name": "B3 recall",
         "orientation": "v",
         "showlegend": true,
         "type": "scatter",
         "x": [
          "2017-08-08T00:00:00",
          "2017-10-03T00:00:00",
          "2017-12-26T00:00:00",
          "2018-05-28T00:00:00",
          "2018-11-27T00:00:00",
          "2019-03-12T00:00:00",
          "2019-08-20T00:00:00",
          "2019-10-08T00:00:00",
          "2019-12-31T00:00:00",
          "2020-03-31T00:00:00",
          "2020-06-30T00:00:00",
          "2020-09-29T00:00:00",
          "2020-12-29T00:00:00",
          "2021-12-30T00:00:00",
          "2022-06-30T00:00:00"
         ],
         "xaxis": "x",
         "y": [
          0.9651007648447202,
          0.9625256547767407,
          0.9350622134816802,
          0.9543954187276955,
          0.961370920333105,
          0.9644894382646961,
          0.9640518899312321,
          0.9624418568590385,
          0.9619705745952918,
          0.9634629017463748,
          0.9646133579474087,
          0.9388464915094978,
          0.9888247599444586,
          0.9890317017782276,
          0.9859397991389018
         ],
         "yaxis": "y"
        }
       ],
       "layout": {
        "legend": {
         "title": {
          "text": "estimator"
         },
         "tracegroupgap": 0
        },
        "margin": {
         "t": 60
        },
        "template": {
         "data": {
          "bar": [
           {
            "error_x": {
             "color": "#2a3f5f"
            },
            "error_y": {
             "color": "#2a3f5f"
            },
            "marker": {
             "line": {
              "color": "#E5ECF6",
              "width": 0.5
             },
             "pattern": {
              "fillmode": "overlay",
              "size": 10,
              "solidity": 0.2
             }
            },
            "type": "bar"
           }
          ],
          "barpolar": [
           {
            "marker": {
             "line": {
              "color": "#E5ECF6",
              "width": 0.5
             },
             "pattern": {
              "fillmode": "overlay",
              "size": 10,
              "solidity": 0.2
             }
            },
            "type": "barpolar"
           }
          ],
          "carpet": [
           {
            "aaxis": {
             "endlinecolor": "#2a3f5f",
             "gridcolor": "white",
             "linecolor": "white",
             "minorgridcolor": "white",
             "startlinecolor": "#2a3f5f"
            },
            "baxis": {
             "endlinecolor": "#2a3f5f",
             "gridcolor": "white",
             "linecolor": "white",
             "minorgridcolor": "white",
             "startlinecolor": "#2a3f5f"
            },
            "type": "carpet"
           }
          ],
          "choropleth": [
           {
            "colorbar": {
             "outlinewidth": 0,
             "ticks": ""
            },
            "type": "choropleth"
           }
          ],
          "contour": [
           {
            "colorbar": {
             "outlinewidth": 0,
             "ticks": ""
            },
            "colorscale": [
             [
              0,
              "#0d0887"
             ],
             [
              0.1111111111111111,
              "#46039f"
             ],
             [
              0.2222222222222222,
              "#7201a8"
             ],
             [
              0.3333333333333333,
              "#9c179e"
             ],
             [
              0.4444444444444444,
              "#bd3786"
             ],
             [
              0.5555555555555556,
              "#d8576b"
             ],
             [
              0.6666666666666666,
              "#ed7953"
             ],
             [
              0.7777777777777778,
              "#fb9f3a"
             ],
             [
              0.8888888888888888,
              "#fdca26"
             ],
             [
              1,
              "#f0f921"
             ]
            ],
            "type": "contour"
           }
          ],
          "contourcarpet": [
           {
            "colorbar": {
             "outlinewidth": 0,
             "ticks": ""
            },
            "type": "contourcarpet"
           }
          ],
          "heatmap": [
           {
            "colorbar": {
             "outlinewidth": 0,
             "ticks": ""
            },
            "colorscale": [
             [
              0,
              "#0d0887"
             ],
             [
              0.1111111111111111,
              "#46039f"
             ],
             [
              0.2222222222222222,
              "#7201a8"
             ],
             [
              0.3333333333333333,
              "#9c179e"
             ],
             [
              0.4444444444444444,
              "#bd3786"
             ],
             [
              0.5555555555555556,
              "#d8576b"
             ],
             [
              0.6666666666666666,
              "#ed7953"
             ],
             [
              0.7777777777777778,
              "#fb9f3a"
             ],
             [
              0.8888888888888888,
              "#fdca26"
             ],
             [
              1,
              "#f0f921"
             ]
            ],
            "type": "heatmap"
           }
          ],
          "heatmapgl": [
           {
            "colorbar": {
             "outlinewidth": 0,
             "ticks": ""
            },
            "colorscale": [
             [
              0,
              "#0d0887"
             ],
             [
              0.1111111111111111,
              "#46039f"
             ],
             [
              0.2222222222222222,
              "#7201a8"
             ],
             [
              0.3333333333333333,
              "#9c179e"
             ],
             [
              0.4444444444444444,
              "#bd3786"
             ],
             [
              0.5555555555555556,
              "#d8576b"
             ],
             [
              0.6666666666666666,
              "#ed7953"
             ],
             [
              0.7777777777777778,
              "#fb9f3a"
             ],
             [
              0.8888888888888888,
              "#fdca26"
             ],
             [
              1,
              "#f0f921"
             ]
            ],
            "type": "heatmapgl"
           }
          ],
          "histogram": [
           {
            "marker": {
             "pattern": {
              "fillmode": "overlay",
              "size": 10,
              "solidity": 0.2
             }
            },
            "type": "histogram"
           }
          ],
          "histogram2d": [
           {
            "colorbar": {
             "outlinewidth": 0,
             "ticks": ""
            },
            "colorscale": [
             [
              0,
              "#0d0887"
             ],
             [
              0.1111111111111111,
              "#46039f"
             ],
             [
              0.2222222222222222,
              "#7201a8"
             ],
             [
              0.3333333333333333,
              "#9c179e"
             ],
             [
              0.4444444444444444,
              "#bd3786"
             ],
             [
              0.5555555555555556,
              "#d8576b"
             ],
             [
              0.6666666666666666,
              "#ed7953"
             ],
             [
              0.7777777777777778,
              "#fb9f3a"
             ],
             [
              0.8888888888888888,
              "#fdca26"
             ],
             [
              1,
              "#f0f921"
             ]
            ],
            "type": "histogram2d"
           }
          ],
          "histogram2dcontour": [
           {
            "colorbar": {
             "outlinewidth": 0,
             "ticks": ""
            },
            "colorscale": [
             [
              0,
              "#0d0887"
             ],
             [
              0.1111111111111111,
              "#46039f"
             ],
             [
              0.2222222222222222,
              "#7201a8"
             ],
             [
              0.3333333333333333,
              "#9c179e"
             ],
             [
              0.4444444444444444,
              "#bd3786"
             ],
             [
              0.5555555555555556,
              "#d8576b"
             ],
             [
              0.6666666666666666,
              "#ed7953"
             ],
             [
              0.7777777777777778,
              "#fb9f3a"
             ],
             [
              0.8888888888888888,
              "#fdca26"
             ],
             [
              1,
              "#f0f921"
             ]
            ],
            "type": "histogram2dcontour"
           }
          ],
          "mesh3d": [
           {
            "colorbar": {
             "outlinewidth": 0,
             "ticks": ""
            },
            "type": "mesh3d"
           }
          ],
          "parcoords": [
           {
            "line": {
             "colorbar": {
              "outlinewidth": 0,
              "ticks": ""
             }
            },
            "type": "parcoords"
           }
          ],
          "pie": [
           {
            "automargin": true,
            "type": "pie"
           }
          ],
          "scatter": [
           {
            "fillpattern": {
             "fillmode": "overlay",
             "size": 10,
             "solidity": 0.2
            },
            "type": "scatter"
           }
          ],
          "scatter3d": [
           {
            "line": {
             "colorbar": {
              "outlinewidth": 0,
              "ticks": ""
             }
            },
            "marker": {
             "colorbar": {
              "outlinewidth": 0,
              "ticks": ""
             }
            },
            "type": "scatter3d"
           }
          ],
          "scattercarpet": [
           {
            "marker": {
             "colorbar": {
              "outlinewidth": 0,
              "ticks": ""
             }
            },
            "type": "scattercarpet"
           }
          ],
          "scattergeo": [
           {
            "marker": {
             "colorbar": {
              "outlinewidth": 0,
              "ticks": ""
             }
            },
            "type": "scattergeo"
           }
          ],
          "scattergl": [
           {
            "marker": {
             "colorbar": {
              "outlinewidth": 0,
              "ticks": ""
             }
            },
            "type": "scattergl"
           }
          ],
          "scattermapbox": [
           {
            "marker": {
             "colorbar": {
              "outlinewidth": 0,
              "ticks": ""
             }
            },
            "type": "scattermapbox"
           }
          ],
          "scatterpolar": [
           {
            "marker": {
             "colorbar": {
              "outlinewidth": 0,
              "ticks": ""
             }
            },
            "type": "scatterpolar"
           }
          ],
          "scatterpolargl": [
           {
            "marker": {
             "colorbar": {
              "outlinewidth": 0,
              "ticks": ""
             }
            },
            "type": "scatterpolargl"
           }
          ],
          "scatterternary": [
           {
            "marker": {
             "colorbar": {
              "outlinewidth": 0,
              "ticks": ""
             }
            },
            "type": "scatterternary"
           }
          ],
          "surface": [
           {
            "colorbar": {
             "outlinewidth": 0,
             "ticks": ""
            },
            "colorscale": [
             [
              0,
              "#0d0887"
             ],
             [
              0.1111111111111111,
              "#46039f"
             ],
             [
              0.2222222222222222,
              "#7201a8"
             ],
             [
              0.3333333333333333,
              "#9c179e"
             ],
             [
              0.4444444444444444,
              "#bd3786"
             ],
             [
              0.5555555555555556,
              "#d8576b"
             ],
             [
              0.6666666666666666,
              "#ed7953"
             ],
             [
              0.7777777777777778,
              "#fb9f3a"
             ],
             [
              0.8888888888888888,
              "#fdca26"
             ],
             [
              1,
              "#f0f921"
             ]
            ],
            "type": "surface"
           }
          ],
          "table": [
           {
            "cells": {
             "fill": {
              "color": "#EBF0F8"
             },
             "line": {
              "color": "white"
             }
            },
            "header": {
             "fill": {
              "color": "#C8D4E3"
             },
             "line": {
              "color": "white"
             }
            },
            "type": "table"
           }
          ]
         },
         "layout": {
          "annotationdefaults": {
           "arrowcolor": "#2a3f5f",
           "arrowhead": 0,
           "arrowwidth": 1
          },
          "autotypenumbers": "strict",
          "coloraxis": {
           "colorbar": {
            "outlinewidth": 0,
            "ticks": ""
           }
          },
          "colorscale": {
           "diverging": [
            [
             0,
             "#8e0152"
            ],
            [
             0.1,
             "#c51b7d"
            ],
            [
             0.2,
             "#de77ae"
            ],
            [
             0.3,
             "#f1b6da"
            ],
            [
             0.4,
             "#fde0ef"
            ],
            [
             0.5,
             "#f7f7f7"
            ],
            [
             0.6,
             "#e6f5d0"
            ],
            [
             0.7,
             "#b8e186"
            ],
            [
             0.8,
             "#7fbc41"
            ],
            [
             0.9,
             "#4d9221"
            ],
            [
             1,
             "#276419"
            ]
           ],
           "sequential": [
            [
             0,
             "#0d0887"
            ],
            [
             0.1111111111111111,
             "#46039f"
            ],
            [
             0.2222222222222222,
             "#7201a8"
            ],
            [
             0.3333333333333333,
             "#9c179e"
            ],
            [
             0.4444444444444444,
             "#bd3786"
            ],
            [
             0.5555555555555556,
             "#d8576b"
            ],
            [
             0.6666666666666666,
             "#ed7953"
            ],
            [
             0.7777777777777778,
             "#fb9f3a"
            ],
            [
             0.8888888888888888,
             "#fdca26"
            ],
            [
             1,
             "#f0f921"
            ]
           ],
           "sequentialminus": [
            [
             0,
             "#0d0887"
            ],
            [
             0.1111111111111111,
             "#46039f"
            ],
            [
             0.2222222222222222,
             "#7201a8"
            ],
            [
             0.3333333333333333,
             "#9c179e"
            ],
            [
             0.4444444444444444,
             "#bd3786"
            ],
            [
             0.5555555555555556,
             "#d8576b"
            ],
            [
             0.6666666666666666,
             "#ed7953"
            ],
            [
             0.7777777777777778,
             "#fb9f3a"
            ],
            [
             0.8888888888888888,
             "#fdca26"
            ],
            [
             1,
             "#f0f921"
            ]
           ]
          },
          "colorway": [
           "#636efa",
           "#EF553B",
           "#00cc96",
           "#ab63fa",
           "#FFA15A",
           "#19d3f3",
           "#FF6692",
           "#B6E880",
           "#FF97FF",
           "#FECB52"
          ],
          "font": {
           "color": "#2a3f5f"
          },
          "geo": {
           "bgcolor": "white",
           "lakecolor": "white",
           "landcolor": "#E5ECF6",
           "showlakes": true,
           "showland": true,
           "subunitcolor": "white"
          },
          "hoverlabel": {
           "align": "left"
          },
          "hovermode": "closest",
          "mapbox": {
           "style": "light"
          },
          "paper_bgcolor": "white",
          "plot_bgcolor": "#E5ECF6",
          "polar": {
           "angularaxis": {
            "gridcolor": "white",
            "linecolor": "white",
            "ticks": ""
           },
           "bgcolor": "#E5ECF6",
           "radialaxis": {
            "gridcolor": "white",
            "linecolor": "white",
            "ticks": ""
           }
          },
          "scene": {
           "xaxis": {
            "backgroundcolor": "#E5ECF6",
            "gridcolor": "white",
            "gridwidth": 2,
            "linecolor": "white",
            "showbackground": true,
            "ticks": "",
            "zerolinecolor": "white"
           },
           "yaxis": {
            "backgroundcolor": "#E5ECF6",
            "gridcolor": "white",
            "gridwidth": 2,
            "linecolor": "white",
            "showbackground": true,
            "ticks": "",
            "zerolinecolor": "white"
           },
           "zaxis": {
            "backgroundcolor": "#E5ECF6",
            "gridcolor": "white",
            "gridwidth": 2,
            "linecolor": "white",
            "showbackground": true,
            "ticks": "",
            "zerolinecolor": "white"
           }
          },
          "shapedefaults": {
           "line": {
            "color": "#2a3f5f"
           }
          },
          "ternary": {
           "aaxis": {
            "gridcolor": "white",
            "linecolor": "white",
            "ticks": ""
           },
           "baxis": {
            "gridcolor": "white",
            "linecolor": "white",
            "ticks": ""
           },
           "bgcolor": "#E5ECF6",
           "caxis": {
            "gridcolor": "white",
            "linecolor": "white",
            "ticks": ""
           }
          },
          "title": {
           "x": 0.05
          },
          "xaxis": {
           "automargin": true,
           "gridcolor": "white",
           "linecolor": "white",
           "ticks": "",
           "title": {
            "standoff": 15
           },
           "zerolinecolor": "white",
           "zerolinewidth": 2
          },
          "yaxis": {
           "automargin": true,
           "gridcolor": "white",
           "linecolor": "white",
           "ticks": "",
           "title": {
            "standoff": 15
           },
           "zerolinecolor": "white",
           "zerolinewidth": 2
          }
         }
        },
        "title": {
         "text": "Performance estimates"
        },
        "xaxis": {
         "anchor": "y",
         "domain": [
          0,
          1
         ],
         "title": {
          "text": "prediction"
         }
        },
        "yaxis": {
         "anchor": "x",
         "domain": [
          0,
          1
         ],
         "title": {
          "text": "value"
         }
        }
       }
      }
     },
     "metadata": {},
     "output_type": "display_data"
    }
   ],
   "source": [
    "from er_evaluation.plots import plot_estimates\n",
    "from er_evaluation.estimators import *\n",
    "\n",
    "fig = plot_estimates(predictions, {\"sample\": reference, \"weights\": \"cluster_size\"})\n",
    "\n",
    "fig"
   ]
  },
  {
   "attachments": {},
   "cell_type": "markdown",
   "metadata": {},
   "source": [
    "## Disambiguation Similarity"
   ]
  },
  {
   "cell_type": "code",
   "execution_count": 4,
   "metadata": {},
   "outputs": [
    {
     "data": {
      "application/vnd.plotly.v1+json": {
       "config": {
        "plotlyServerURL": "https://plot.ly"
       },
       "data": [
        {
         "coloraxis": "coloraxis",
         "hovertemplate": "x: %{x}<br>y: %{y}<br>color: %{z}<extra></extra>",
         "name": "0",
         "type": "heatmap",
         "x": [
          "2017-08-08T00:00:00",
          "2017-10-03T00:00:00",
          "2017-12-26T00:00:00",
          "2018-05-28T00:00:00",
          "2018-11-27T00:00:00",
          "2019-03-12T00:00:00",
          "2019-08-20T00:00:00",
          "2019-10-08T00:00:00",
          "2019-12-31T00:00:00",
          "2020-03-31T00:00:00",
          "2020-06-30T00:00:00",
          "2020-09-29T00:00:00",
          "2020-12-29T00:00:00",
          "2021-12-30T00:00:00",
          "2022-06-30T00:00:00"
         ],
         "xaxis": "x",
         "y": [
          "2017-08-08T00:00:00",
          "2017-10-03T00:00:00",
          "2017-12-26T00:00:00",
          "2018-05-28T00:00:00",
          "2018-11-27T00:00:00",
          "2019-03-12T00:00:00",
          "2019-08-20T00:00:00",
          "2019-10-08T00:00:00",
          "2019-12-31T00:00:00",
          "2020-03-31T00:00:00",
          "2020-06-30T00:00:00",
          "2020-09-29T00:00:00",
          "2020-12-29T00:00:00",
          "2021-12-30T00:00:00",
          "2022-06-30T00:00:00"
         ],
         "yaxis": "y",
         "z": [
          [
           1,
           0.6525274724429703,
           0.3250507488686197,
           0.36349018927831706,
           0.37273616599106174,
           0.3742724414835651,
           0.37448595904179577,
           0.37691500963071844,
           0.3766456135278368,
           0.37626176893786034,
           0.3731822972156721,
           0.3506724713708968,
           0.3239037007616784,
           0.32459846587762575,
           0.324046344844698
          ],
          [
           0.6273042158116686,
           1,
           0.28480602422026136,
           0.3184098719431503,
           0.32535641234239276,
           0.3262521516933762,
           0.3263616019922797,
           0.32895583467224376,
           0.32979684887377536,
           0.32916549595910444,
           0.3447244955928487,
           0.3056998967566228,
           0.28506910767682503,
           0.28512489890061676,
           0.2849104995055784
          ],
          [
           0.9497235928473775,
           0.8778094794775608,
           1,
           0.9761839481379201,
           0.9886322040677304,
           0.9912747025378443,
           0.98836367901929,
           0.9910015842977858,
           0.9935992108190155,
           0.9923325498997271,
           0.9847357642858859,
           0.9238653756736093,
           0.8586498277906466,
           0.8594069977627624,
           0.8585293448412805
          ],
          [
           0.9350495468630541,
           0.8602905830928236,
           0.8503812583526266,
           1,
           0.9694845425714077,
           0.9779403160579587,
           0.9750166297355407,
           0.9814141784052334,
           0.9858956954376589,
           0.9849052069311307,
           0.9697763676079931,
           0.9140855648173447,
           0.8167536181297734,
           0.8175524176416817,
           0.8169607566851537
          ],
          [
           0.9230518498488148,
           0.8461263823347028,
           0.8288683308598529,
           0.9324031093072849,
           1,
           0.9737098916164392,
           0.9764599412235333,
           0.9783659715406452,
           0.9776876056453254,
           0.9748496479484259,
           0.9626334723009485,
           0.9106249121871863,
           0.7920767879705147,
           0.7937625399238655,
           0.7939863752623586
          ],
          [
           0.9199441162155905,
           0.8418702277126674,
           0.824614994832895,
           0.9312872921854651,
           0.9605003334537159,
           1,
           0.9691472292445875,
           0.9781498498410397,
           0.977570728316872,
           0.9720294798615737,
           0.9583655034385937,
           0.9086404788295067,
           0.7713564776817584,
           0.7731956894086354,
           0.7735050471585717
          ],
          [
           0.9126332885654496,
           0.8352237383456349,
           0.8153167542410524,
           0.9218979304703167,
           0.9566608843011639,
           0.9627767991738972,
           1,
           0.978823986205347,
           0.9698408837826666,
           0.9686228359965404,
           0.9541604817221939,
           0.9056239822789752,
           0.7559899528508186,
           0.7581106298881966,
           0.7583571187847443
          ],
          [
           0.9075650609187638,
           0.831788179837836,
           0.8075328829457822,
           0.9162670460358159,
           0.9469344465390277,
           0.9599842411746364,
           0.9663197958010702,
           1,
           0.9664175739562639,
           0.9638182637997467,
           0.9517979974243332,
           0.897972420907049,
           0.7439065394944286,
           0.7458419511460253,
           0.7459647713232671
          ],
          [
           0.9156733831379793,
           0.8418742646620825,
           0.8175026308598405,
           0.9289696608292004,
           0.9540563477288126,
           0.9672302147152756,
           0.9655086748947601,
           0.974373259875595,
           1,
           0.9745728613725836,
           0.9568974457299,
           0.9065231040334685,
           0.7458986411472791,
           0.7482959072028118,
           0.7478887256947208
          ],
          [
           0.9179880167023231,
           0.8432696275975917,
           0.8192397331598736,
           0.9312261156705547,
           0.9549964756411048,
           0.965310274910345,
           0.9670534046920342,
           0.9744549388472102,
           0.9771606638682065,
           1,
           0.9566938829054761,
           0.9088051424192047,
           0.7388079195342425,
           0.7409856917202847,
           0.7410604897081804
          ],
          [
           0.8696789470210168,
           0.8444424390917649,
           0.778738951393115,
           0.8796695379926462,
           0.9068494731027247,
           0.9171786703335534,
           0.9214258781399758,
           0.932331830265746,
           0.9322563926140888,
           0.9308915855473274,
           1,
           0.8716115877460611,
           0.7110331815968829,
           0.7129280128818065,
           0.7133900761421454
          ],
          [
           0.9177565466591175,
           0.8401636328950821,
           0.8183122349664356,
           0.926520480173765,
           0.9553942923524048,
           0.9667240682769569,
           0.9682522209802141,
           0.972906018673216,
           0.973656460944045,
           0.9732536253494721,
           0.955909865365984,
           1,
           0.7281275080237336,
           0.7298938559682516,
           0.7309129925049666
          ],
          [
           0.8816722763186171,
           0.8204471638813385,
           0.8038015441540542,
           0.8900959484516764,
           0.9109013358079391,
           0.9114025221449308,
           0.9144502307531357,
           0.9179560332597069,
           0.9217931847771931,
           0.9199041929895154,
           0.9173621890085725,
           0.8565731516913149,
           1,
           0.9880720840221988,
           0.9847812480420137
          ],
          [
           0.8827513614778024,
           0.819697297334112,
           0.8035474422750251,
           0.8896486108006428,
           0.9111959641528953,
           0.9117028319690136,
           0.9149520551118749,
           0.9182331030432296,
           0.9226321766705349,
           0.9203871144488979,
           0.9176833674753919,
           0.8566687806930876,
           0.9858254277137327,
           1,
           0.9845948641798082
          ],
          [
           0.8802316076483998,
           0.8180955497159603,
           0.8016050740582635,
           0.8876172476659263,
           0.9098612356176181,
           0.9104114836082003,
           0.9136176183141833,
           0.9166084984475191,
           0.9201286660846082,
           0.9184277549526337,
           0.9157766776187458,
           0.8555280414754297,
           0.9796026506173756,
           0.9175653933008744,
           1
          ]
         ]
        },
        {
         "coloraxis": "coloraxis",
         "hovertemplate": "x: %{x}<br>y: %{y}<br>color: %{z}<extra></extra>",
         "name": "1",
         "type": "heatmap",
         "x": [
          "2017-08-08T00:00:00",
          "2017-10-03T00:00:00",
          "2017-12-26T00:00:00",
          "2018-05-28T00:00:00",
          "2018-11-27T00:00:00",
          "2019-03-12T00:00:00",
          "2019-08-20T00:00:00",
          "2019-10-08T00:00:00",
          "2019-12-31T00:00:00",
          "2020-03-31T00:00:00",
          "2020-06-30T00:00:00",
          "2020-09-29T00:00:00",
          "2020-12-29T00:00:00",
          "2021-12-30T00:00:00",
          "2022-06-30T00:00:00"
         ],
         "xaxis": "x2",
         "y": [
          "2017-08-08T00:00:00",
          "2017-10-03T00:00:00",
          "2017-12-26T00:00:00",
          "2018-05-28T00:00:00",
          "2018-11-27T00:00:00",
          "2019-03-12T00:00:00",
          "2019-08-20T00:00:00",
          "2019-10-08T00:00:00",
          "2019-12-31T00:00:00",
          "2020-03-31T00:00:00",
          "2020-06-30T00:00:00",
          "2020-09-29T00:00:00",
          "2020-12-29T00:00:00",
          "2021-12-30T00:00:00",
          "2022-06-30T00:00:00"
         ],
         "yaxis": "y2",
         "z": [
          [
           1,
           0.6273042158116686,
           0.9497235928473775,
           0.9350495468630541,
           0.9230518498488148,
           0.9199441162155905,
           0.9126332885654496,
           0.9075650609187638,
           0.9156733831379793,
           0.9179880167023231,
           0.8696789470210168,
           0.9177565466591175,
           0.8816722763186171,
           0.8827513614778024,
           0.8802316076483998
          ],
          [
           0.6525274724429703,
           1,
           0.8778094794775608,
           0.8602905830928236,
           0.8461263823347028,
           0.8418702277126674,
           0.8352237383456349,
           0.831788179837836,
           0.8418742646620825,
           0.8432696275975917,
           0.8444424390917649,
           0.8401636328950821,
           0.8204471638813385,
           0.819697297334112,
           0.8180955497159603
          ],
          [
           0.3250507488686197,
           0.28480602422026136,
           1,
           0.8503812583526266,
           0.8288683308598529,
           0.824614994832895,
           0.8153167542410524,
           0.8075328829457822,
           0.8175026308598405,
           0.8192397331598736,
           0.778738951393115,
           0.8183122349664356,
           0.8038015441540542,
           0.8035474422750251,
           0.8016050740582635
          ],
          [
           0.36349018927831706,
           0.3184098719431503,
           0.9761839481379201,
           1,
           0.9324031093072849,
           0.9312872921854651,
           0.9218979304703167,
           0.9162670460358159,
           0.9289696608292004,
           0.9312261156705547,
           0.8796695379926462,
           0.926520480173765,
           0.8900959484516764,
           0.8896486108006428,
           0.8876172476659263
          ],
          [
           0.37273616599106174,
           0.32535641234239276,
           0.9886322040677304,
           0.9694845425714077,
           1,
           0.9605003334537159,
           0.9566608843011639,
           0.9469344465390277,
           0.9540563477288126,
           0.9549964756411048,
           0.9068494731027247,
           0.9553942923524048,
           0.9109013358079391,
           0.9111959641528953,
           0.9098612356176181
          ],
          [
           0.3742724414835651,
           0.3262521516933762,
           0.9912747025378443,
           0.9779403160579587,
           0.9737098916164392,
           1,
           0.9627767991738972,
           0.9599842411746364,
           0.9672302147152756,
           0.965310274910345,
           0.9171786703335534,
           0.9667240682769569,
           0.9114025221449308,
           0.9117028319690136,
           0.9104114836082003
          ],
          [
           0.37448595904179577,
           0.3263616019922797,
           0.98836367901929,
           0.9750166297355407,
           0.9764599412235333,
           0.9691472292445875,
           1,
           0.9663197958010702,
           0.9655086748947601,
           0.9670534046920342,
           0.9214258781399758,
           0.9682522209802141,
           0.9144502307531357,
           0.9149520551118749,
           0.9136176183141833
          ],
          [
           0.37691500963071844,
           0.32895583467224376,
           0.9910015842977858,
           0.9814141784052334,
           0.9783659715406452,
           0.9781498498410397,
           0.978823986205347,
           1,
           0.974373259875595,
           0.9744549388472102,
           0.932331830265746,
           0.972906018673216,
           0.9179560332597069,
           0.9182331030432296,
           0.9166084984475191
          ],
          [
           0.3766456135278368,
           0.32979684887377536,
           0.9935992108190155,
           0.9858956954376589,
           0.9776876056453254,
           0.977570728316872,
           0.9698408837826666,
           0.9664175739562639,
           1,
           0.9771606638682065,
           0.9322563926140888,
           0.973656460944045,
           0.9217931847771931,
           0.9226321766705349,
           0.9201286660846082
          ],
          [
           0.37626176893786034,
           0.32916549595910444,
           0.9923325498997271,
           0.9849052069311307,
           0.9748496479484259,
           0.9720294798615737,
           0.9686228359965404,
           0.9638182637997467,
           0.9745728613725836,
           1,
           0.9308915855473274,
           0.9732536253494721,
           0.9199041929895154,
           0.9203871144488979,
           0.9184277549526337
          ],
          [
           0.3731822972156721,
           0.3447244955928487,
           0.9847357642858859,
           0.9697763676079931,
           0.9626334723009485,
           0.9583655034385937,
           0.9541604817221939,
           0.9517979974243332,
           0.9568974457299,
           0.9566938829054761,
           1,
           0.955909865365984,
           0.9173621890085725,
           0.9176833674753919,
           0.9157766776187458
          ],
          [
           0.3506724713708968,
           0.3056998967566228,
           0.9238653756736093,
           0.9140855648173447,
           0.9106249121871863,
           0.9086404788295067,
           0.9056239822789752,
           0.897972420907049,
           0.9065231040334685,
           0.9088051424192047,
           0.8716115877460611,
           1,
           0.8565731516913149,
           0.8566687806930876,
           0.8555280414754297
          ],
          [
           0.3239037007616784,
           0.28506910767682503,
           0.8586498277906466,
           0.8167536181297734,
           0.7920767879705147,
           0.7713564776817584,
           0.7559899528508186,
           0.7439065394944286,
           0.7458986411472791,
           0.7388079195342425,
           0.7110331815968829,
           0.7281275080237336,
           1,
           0.9858254277137327,
           0.9796026506173756
          ],
          [
           0.32459846587762575,
           0.28512489890061676,
           0.8594069977627624,
           0.8175524176416817,
           0.7937625399238655,
           0.7731956894086354,
           0.7581106298881966,
           0.7458419511460253,
           0.7482959072028118,
           0.7409856917202847,
           0.7129280128818065,
           0.7298938559682516,
           0.9880720840221988,
           1,
           0.9175653933008744
          ],
          [
           0.324046344844698,
           0.2849104995055784,
           0.8585293448412805,
           0.8169607566851537,
           0.7939863752623586,
           0.7735050471585717,
           0.7583571187847443,
           0.7459647713232671,
           0.7478887256947208,
           0.7410604897081804,
           0.7133900761421454,
           0.7309129925049666,
           0.9847812480420137,
           0.9845948641798082,
           1
          ]
         ]
        }
       ],
       "layout": {
        "annotations": [
         {
          "font": {
           "size": 14
          },
          "showarrow": false,
          "text": "Pairwise precision",
          "x": 0.245,
          "xanchor": "center",
          "xref": "paper",
          "y": 1,
          "yanchor": "bottom",
          "yref": "paper"
         },
         {
          "font": {
           "size": 14
          },
          "showarrow": false,
          "text": "Pairwise recall",
          "x": 0.755,
          "xanchor": "center",
          "xref": "paper",
          "y": 1,
          "yanchor": "bottom",
          "yref": "paper"
         }
        ],
        "coloraxis": {
         "colorscale": [
          [
           0,
           "#0d0887"
          ],
          [
           0.1111111111111111,
           "#46039f"
          ],
          [
           0.2222222222222222,
           "#7201a8"
          ],
          [
           0.3333333333333333,
           "#9c179e"
          ],
          [
           0.4444444444444444,
           "#bd3786"
          ],
          [
           0.5555555555555556,
           "#d8576b"
          ],
          [
           0.6666666666666666,
           "#ed7953"
          ],
          [
           0.7777777777777778,
           "#fb9f3a"
          ],
          [
           0.8888888888888888,
           "#fdca26"
          ],
          [
           1,
           "#f0f921"
          ]
         ]
        },
        "margin": {
         "t": 60
        },
        "template": {
         "data": {
          "bar": [
           {
            "error_x": {
             "color": "#2a3f5f"
            },
            "error_y": {
             "color": "#2a3f5f"
            },
            "marker": {
             "line": {
              "color": "#E5ECF6",
              "width": 0.5
             },
             "pattern": {
              "fillmode": "overlay",
              "size": 10,
              "solidity": 0.2
             }
            },
            "type": "bar"
           }
          ],
          "barpolar": [
           {
            "marker": {
             "line": {
              "color": "#E5ECF6",
              "width": 0.5
             },
             "pattern": {
              "fillmode": "overlay",
              "size": 10,
              "solidity": 0.2
             }
            },
            "type": "barpolar"
           }
          ],
          "carpet": [
           {
            "aaxis": {
             "endlinecolor": "#2a3f5f",
             "gridcolor": "white",
             "linecolor": "white",
             "minorgridcolor": "white",
             "startlinecolor": "#2a3f5f"
            },
            "baxis": {
             "endlinecolor": "#2a3f5f",
             "gridcolor": "white",
             "linecolor": "white",
             "minorgridcolor": "white",
             "startlinecolor": "#2a3f5f"
            },
            "type": "carpet"
           }
          ],
          "choropleth": [
           {
            "colorbar": {
             "outlinewidth": 0,
             "ticks": ""
            },
            "type": "choropleth"
           }
          ],
          "contour": [
           {
            "colorbar": {
             "outlinewidth": 0,
             "ticks": ""
            },
            "colorscale": [
             [
              0,
              "#0d0887"
             ],
             [
              0.1111111111111111,
              "#46039f"
             ],
             [
              0.2222222222222222,
              "#7201a8"
             ],
             [
              0.3333333333333333,
              "#9c179e"
             ],
             [
              0.4444444444444444,
              "#bd3786"
             ],
             [
              0.5555555555555556,
              "#d8576b"
             ],
             [
              0.6666666666666666,
              "#ed7953"
             ],
             [
              0.7777777777777778,
              "#fb9f3a"
             ],
             [
              0.8888888888888888,
              "#fdca26"
             ],
             [
              1,
              "#f0f921"
             ]
            ],
            "type": "contour"
           }
          ],
          "contourcarpet": [
           {
            "colorbar": {
             "outlinewidth": 0,
             "ticks": ""
            },
            "type": "contourcarpet"
           }
          ],
          "heatmap": [
           {
            "colorbar": {
             "outlinewidth": 0,
             "ticks": ""
            },
            "colorscale": [
             [
              0,
              "#0d0887"
             ],
             [
              0.1111111111111111,
              "#46039f"
             ],
             [
              0.2222222222222222,
              "#7201a8"
             ],
             [
              0.3333333333333333,
              "#9c179e"
             ],
             [
              0.4444444444444444,
              "#bd3786"
             ],
             [
              0.5555555555555556,
              "#d8576b"
             ],
             [
              0.6666666666666666,
              "#ed7953"
             ],
             [
              0.7777777777777778,
              "#fb9f3a"
             ],
             [
              0.8888888888888888,
              "#fdca26"
             ],
             [
              1,
              "#f0f921"
             ]
            ],
            "type": "heatmap"
           }
          ],
          "heatmapgl": [
           {
            "colorbar": {
             "outlinewidth": 0,
             "ticks": ""
            },
            "colorscale": [
             [
              0,
              "#0d0887"
             ],
             [
              0.1111111111111111,
              "#46039f"
             ],
             [
              0.2222222222222222,
              "#7201a8"
             ],
             [
              0.3333333333333333,
              "#9c179e"
             ],
             [
              0.4444444444444444,
              "#bd3786"
             ],
             [
              0.5555555555555556,
              "#d8576b"
             ],
             [
              0.6666666666666666,
              "#ed7953"
             ],
             [
              0.7777777777777778,
              "#fb9f3a"
             ],
             [
              0.8888888888888888,
              "#fdca26"
             ],
             [
              1,
              "#f0f921"
             ]
            ],
            "type": "heatmapgl"
           }
          ],
          "histogram": [
           {
            "marker": {
             "pattern": {
              "fillmode": "overlay",
              "size": 10,
              "solidity": 0.2
             }
            },
            "type": "histogram"
           }
          ],
          "histogram2d": [
           {
            "colorbar": {
             "outlinewidth": 0,
             "ticks": ""
            },
            "colorscale": [
             [
              0,
              "#0d0887"
             ],
             [
              0.1111111111111111,
              "#46039f"
             ],
             [
              0.2222222222222222,
              "#7201a8"
             ],
             [
              0.3333333333333333,
              "#9c179e"
             ],
             [
              0.4444444444444444,
              "#bd3786"
             ],
             [
              0.5555555555555556,
              "#d8576b"
             ],
             [
              0.6666666666666666,
              "#ed7953"
             ],
             [
              0.7777777777777778,
              "#fb9f3a"
             ],
             [
              0.8888888888888888,
              "#fdca26"
             ],
             [
              1,
              "#f0f921"
             ]
            ],
            "type": "histogram2d"
           }
          ],
          "histogram2dcontour": [
           {
            "colorbar": {
             "outlinewidth": 0,
             "ticks": ""
            },
            "colorscale": [
             [
              0,
              "#0d0887"
             ],
             [
              0.1111111111111111,
              "#46039f"
             ],
             [
              0.2222222222222222,
              "#7201a8"
             ],
             [
              0.3333333333333333,
              "#9c179e"
             ],
             [
              0.4444444444444444,
              "#bd3786"
             ],
             [
              0.5555555555555556,
              "#d8576b"
             ],
             [
              0.6666666666666666,
              "#ed7953"
             ],
             [
              0.7777777777777778,
              "#fb9f3a"
             ],
             [
              0.8888888888888888,
              "#fdca26"
             ],
             [
              1,
              "#f0f921"
             ]
            ],
            "type": "histogram2dcontour"
           }
          ],
          "mesh3d": [
           {
            "colorbar": {
             "outlinewidth": 0,
             "ticks": ""
            },
            "type": "mesh3d"
           }
          ],
          "parcoords": [
           {
            "line": {
             "colorbar": {
              "outlinewidth": 0,
              "ticks": ""
             }
            },
            "type": "parcoords"
           }
          ],
          "pie": [
           {
            "automargin": true,
            "type": "pie"
           }
          ],
          "scatter": [
           {
            "fillpattern": {
             "fillmode": "overlay",
             "size": 10,
             "solidity": 0.2
            },
            "type": "scatter"
           }
          ],
          "scatter3d": [
           {
            "line": {
             "colorbar": {
              "outlinewidth": 0,
              "ticks": ""
             }
            },
            "marker": {
             "colorbar": {
              "outlinewidth": 0,
              "ticks": ""
             }
            },
            "type": "scatter3d"
           }
          ],
          "scattercarpet": [
           {
            "marker": {
             "colorbar": {
              "outlinewidth": 0,
              "ticks": ""
             }
            },
            "type": "scattercarpet"
           }
          ],
          "scattergeo": [
           {
            "marker": {
             "colorbar": {
              "outlinewidth": 0,
              "ticks": ""
             }
            },
            "type": "scattergeo"
           }
          ],
          "scattergl": [
           {
            "marker": {
             "colorbar": {
              "outlinewidth": 0,
              "ticks": ""
             }
            },
            "type": "scattergl"
           }
          ],
          "scattermapbox": [
           {
            "marker": {
             "colorbar": {
              "outlinewidth": 0,
              "ticks": ""
             }
            },
            "type": "scattermapbox"
           }
          ],
          "scatterpolar": [
           {
            "marker": {
             "colorbar": {
              "outlinewidth": 0,
              "ticks": ""
             }
            },
            "type": "scatterpolar"
           }
          ],
          "scatterpolargl": [
           {
            "marker": {
             "colorbar": {
              "outlinewidth": 0,
              "ticks": ""
             }
            },
            "type": "scatterpolargl"
           }
          ],
          "scatterternary": [
           {
            "marker": {
             "colorbar": {
              "outlinewidth": 0,
              "ticks": ""
             }
            },
            "type": "scatterternary"
           }
          ],
          "surface": [
           {
            "colorbar": {
             "outlinewidth": 0,
             "ticks": ""
            },
            "colorscale": [
             [
              0,
              "#0d0887"
             ],
             [
              0.1111111111111111,
              "#46039f"
             ],
             [
              0.2222222222222222,
              "#7201a8"
             ],
             [
              0.3333333333333333,
              "#9c179e"
             ],
             [
              0.4444444444444444,
              "#bd3786"
             ],
             [
              0.5555555555555556,
              "#d8576b"
             ],
             [
              0.6666666666666666,
              "#ed7953"
             ],
             [
              0.7777777777777778,
              "#fb9f3a"
             ],
             [
              0.8888888888888888,
              "#fdca26"
             ],
             [
              1,
              "#f0f921"
             ]
            ],
            "type": "surface"
           }
          ],
          "table": [
           {
            "cells": {
             "fill": {
              "color": "#EBF0F8"
             },
             "line": {
              "color": "white"
             }
            },
            "header": {
             "fill": {
              "color": "#C8D4E3"
             },
             "line": {
              "color": "white"
             }
            },
            "type": "table"
           }
          ]
         },
         "layout": {
          "annotationdefaults": {
           "arrowcolor": "#2a3f5f",
           "arrowhead": 0,
           "arrowwidth": 1
          },
          "autotypenumbers": "strict",
          "coloraxis": {
           "colorbar": {
            "outlinewidth": 0,
            "ticks": ""
           }
          },
          "colorscale": {
           "diverging": [
            [
             0,
             "#8e0152"
            ],
            [
             0.1,
             "#c51b7d"
            ],
            [
             0.2,
             "#de77ae"
            ],
            [
             0.3,
             "#f1b6da"
            ],
            [
             0.4,
             "#fde0ef"
            ],
            [
             0.5,
             "#f7f7f7"
            ],
            [
             0.6,
             "#e6f5d0"
            ],
            [
             0.7,
             "#b8e186"
            ],
            [
             0.8,
             "#7fbc41"
            ],
            [
             0.9,
             "#4d9221"
            ],
            [
             1,
             "#276419"
            ]
           ],
           "sequential": [
            [
             0,
             "#0d0887"
            ],
            [
             0.1111111111111111,
             "#46039f"
            ],
            [
             0.2222222222222222,
             "#7201a8"
            ],
            [
             0.3333333333333333,
             "#9c179e"
            ],
            [
             0.4444444444444444,
             "#bd3786"
            ],
            [
             0.5555555555555556,
             "#d8576b"
            ],
            [
             0.6666666666666666,
             "#ed7953"
            ],
            [
             0.7777777777777778,
             "#fb9f3a"
            ],
            [
             0.8888888888888888,
             "#fdca26"
            ],
            [
             1,
             "#f0f921"
            ]
           ],
           "sequentialminus": [
            [
             0,
             "#0d0887"
            ],
            [
             0.1111111111111111,
             "#46039f"
            ],
            [
             0.2222222222222222,
             "#7201a8"
            ],
            [
             0.3333333333333333,
             "#9c179e"
            ],
            [
             0.4444444444444444,
             "#bd3786"
            ],
            [
             0.5555555555555556,
             "#d8576b"
            ],
            [
             0.6666666666666666,
             "#ed7953"
            ],
            [
             0.7777777777777778,
             "#fb9f3a"
            ],
            [
             0.8888888888888888,
             "#fdca26"
            ],
            [
             1,
             "#f0f921"
            ]
           ]
          },
          "colorway": [
           "#636efa",
           "#EF553B",
           "#00cc96",
           "#ab63fa",
           "#FFA15A",
           "#19d3f3",
           "#FF6692",
           "#B6E880",
           "#FF97FF",
           "#FECB52"
          ],
          "font": {
           "color": "#2a3f5f"
          },
          "geo": {
           "bgcolor": "white",
           "lakecolor": "white",
           "landcolor": "#E5ECF6",
           "showlakes": true,
           "showland": true,
           "subunitcolor": "white"
          },
          "hoverlabel": {
           "align": "left"
          },
          "hovermode": "closest",
          "mapbox": {
           "style": "light"
          },
          "paper_bgcolor": "white",
          "plot_bgcolor": "#E5ECF6",
          "polar": {
           "angularaxis": {
            "gridcolor": "white",
            "linecolor": "white",
            "ticks": ""
           },
           "bgcolor": "#E5ECF6",
           "radialaxis": {
            "gridcolor": "white",
            "linecolor": "white",
            "ticks": ""
           }
          },
          "scene": {
           "xaxis": {
            "backgroundcolor": "#E5ECF6",
            "gridcolor": "white",
            "gridwidth": 2,
            "linecolor": "white",
            "showbackground": true,
            "ticks": "",
            "zerolinecolor": "white"
           },
           "yaxis": {
            "backgroundcolor": "#E5ECF6",
            "gridcolor": "white",
            "gridwidth": 2,
            "linecolor": "white",
            "showbackground": true,
            "ticks": "",
            "zerolinecolor": "white"
           },
           "zaxis": {
            "backgroundcolor": "#E5ECF6",
            "gridcolor": "white",
            "gridwidth": 2,
            "linecolor": "white",
            "showbackground": true,
            "ticks": "",
            "zerolinecolor": "white"
           }
          },
          "shapedefaults": {
           "line": {
            "color": "#2a3f5f"
           }
          },
          "ternary": {
           "aaxis": {
            "gridcolor": "white",
            "linecolor": "white",
            "ticks": ""
           },
           "baxis": {
            "gridcolor": "white",
            "linecolor": "white",
            "ticks": ""
           },
           "bgcolor": "#E5ECF6",
           "caxis": {
            "gridcolor": "white",
            "linecolor": "white",
            "ticks": ""
           }
          },
          "title": {
           "x": 0.05
          },
          "xaxis": {
           "automargin": true,
           "gridcolor": "white",
           "linecolor": "white",
           "ticks": "",
           "title": {
            "standoff": 15
           },
           "zerolinecolor": "white",
           "zerolinewidth": 2
          },
          "yaxis": {
           "automargin": true,
           "gridcolor": "white",
           "linecolor": "white",
           "ticks": "",
           "title": {
            "standoff": 15
           },
           "zerolinecolor": "white",
           "zerolinewidth": 2
          }
         }
        },
        "title": {
         "text": "Disambiguation Similarity"
        },
        "xaxis": {
         "anchor": "y",
         "constrain": "domain",
         "domain": [
          0,
          0.49
         ],
         "scaleanchor": "y",
         "title": {
          "text": "Prediction"
         }
        },
        "xaxis2": {
         "anchor": "y2",
         "domain": [
          0.51,
          1
         ],
         "matches": "x",
         "title": {
          "text": "Prediction"
         }
        },
        "yaxis": {
         "anchor": "x",
         "autorange": "reversed",
         "constrain": "domain",
         "domain": [
          0,
          1
         ],
         "title": {
          "text": "Reference"
         }
        },
        "yaxis2": {
         "anchor": "x2",
         "domain": [
          0,
          1
         ],
         "matches": "y",
         "showticklabels": false,
         "title": {
          "text": "Reference"
         }
        }
       }
      }
     },
     "metadata": {},
     "output_type": "display_data"
    }
   ],
   "source": [
    "from er_evaluation.plots import plot_comparison\n",
    "\n",
    "plot_comparison(predictions)"
   ]
  },
  {
   "attachments": {},
   "cell_type": "markdown",
   "metadata": {},
   "source": [
    "## Cluster Error Metrics"
   ]
  },
  {
   "cell_type": "code",
   "execution_count": 5,
   "metadata": {},
   "outputs": [
    {
     "data": {
      "application/vnd.plotly.v1+json": {
       "config": {
        "plotlyServerURL": "https://plot.ly"
       },
       "data": [
        {
         "hovertemplate": "expected_relative_extra=%{x}<br>expected_relative_missing=%{y}<br>weight=%{marker.size}<extra></extra>",
         "legendgroup": "",
         "marker": {
          "color": "#636efa",
          "opacity": 0.5,
          "size": [
           1,
           1,
           0.006289308176100629,
           0.047619047619047616,
           0.02857142857142857,
           0.3333333333333333,
           0.043478260869565216,
           0.016129032258064516,
           0.012195121951219513,
           0.3333333333333333,
           0.005952380952380952,
           0.5,
           0.5,
           0.1,
           0.006097560975609756,
           0.07692307692307693,
           0.25,
           0.1111111111111111,
           0.25,
           0.07692307692307693,
           0.16666666666666666,
           0.3333333333333333,
           0.0045871559633027525,
           0.001392757660167131,
           0.005494505494505495,
           0.017543859649122806,
           0.3333333333333333,
           0.5,
           0.5,
           0.3333333333333333,
           0.3333333333333333,
           0.5,
           1,
           0.03125,
           0.16666666666666666,
           0.14285714285714285,
           0.015384615384615385,
           0.3333333333333333,
           0.06666666666666667,
           0.25,
           0.034482758620689655,
           0.2,
           0.16666666666666666,
           0.08333333333333333,
           0.015873015873015872,
           0.2,
           0.1111111111111111,
           1,
           0.05555555555555555,
           1,
           0.25,
           0.09090909090909091,
           0.01818181818181818,
           0.1,
           0.2,
           0.09090909090909091,
           0.058823529411764705,
           0.019230769230769232,
           0.01282051282051282,
           0.011363636363636364,
           0.045454545454545456,
           0.0625,
           0.125,
           0.0136986301369863,
           0.02127659574468085,
           0.25,
           0.1,
           0.25,
           0.5,
           0.005263157894736842,
           0.03571428571428571,
           0.013333333333333334,
           1,
           0.09090909090909091,
           0.09090909090909091,
           0.5,
           0.029411764705882353,
           0.5,
           0.5,
           0.5,
           1,
           0.14285714285714285,
           0.03225806451612903,
           1,
           0.25,
           0.25,
           0.1111111111111111,
           0.3333333333333333,
           1,
           0.16666666666666666,
           0.058823529411764705,
           0.07142857142857142,
           0.0625,
           0.041666666666666664,
           0.041666666666666664,
           1,
           0.3333333333333333,
           0.05263157894736842,
           0.01098901098901099,
           0.06666666666666667,
           0.008130081300813009,
           0.015873015873015872,
           1,
           0.25,
           0.004524886877828055,
           0.015384615384615385,
           0.012987012987012988,
           0.010101010101010102,
           0.009345794392523364,
           0.015873015873015872,
           0.3333333333333333,
           0.043478260869565216,
           0.02702702702702703,
           0.3333333333333333,
           0.029411764705882353,
           0.011764705882352941,
           0.010869565217391304,
           0.04,
           0.009174311926605505,
           0.5,
           0.037037037037037035,
           0.25,
           0.3333333333333333,
           0.16666666666666666,
           0.3333333333333333,
           0.025,
           0.2,
           0.125,
           0.03571428571428571,
           0.5,
           0.06666666666666667,
           0.047619047619047616,
           0.027777777777777776,
           0.043478260869565216,
           0.125,
           0.03571428571428571,
           0.022222222222222223,
           0.03225806451612903,
           0.3333333333333333,
           0.01639344262295082,
           0.04,
           0.022222222222222223,
           0.25,
           0.01,
           0.015625,
           0.1,
           0.5,
           0.058823529411764705,
           0.07692307692307693,
           0.09090909090909091,
           0.5,
           0.02631578947368421,
           0.25,
           0.09090909090909091,
           0.038461538461538464,
           0.0009398496240601503,
           0.3333333333333333,
           0.125,
           0.1111111111111111,
           0.25,
           0.125,
           0.16666666666666666,
           0.2,
           0.5,
           0.5,
           0.02702702702702703,
           0.022222222222222223,
           0.05,
           0.058823529411764705,
           0.03225806451612903,
           0.3333333333333333,
           0.1111111111111111,
           0.023809523809523808,
           0.0024096385542168677,
           0.041666666666666664,
           0.030303030303030304,
           0.047619047619047616,
           0.14285714285714285,
           0.09090909090909091,
           0.04,
           0.16666666666666666,
           0.02631578947368421,
           0.015625,
           0.3333333333333333,
           0.09090909090909091,
           0.02631578947368421,
           0.5,
           0.05555555555555555,
           0.125,
           0.041666666666666664,
           0.125,
           1,
           1,
           1,
           0.004761904761904762,
           1,
           0.1,
           0.004201680672268907,
           0.008695652173913044,
           0.017241379310344827,
           0.09090909090909091,
           0.1111111111111111,
           0.1,
           0.022222222222222223,
           0.14285714285714285,
           0.0036101083032490976,
           0.02857142857142857,
           0.01639344262295082,
           0.16666666666666666,
           0.008064516129032258,
           0.017241379310344827,
           0.027777777777777776,
           0.009900990099009901,
           0.25,
           0.25,
           0.1111111111111111,
           1,
           0.2,
           0.1,
           0.5,
           0.07142857142857142,
           0.010101010101010102,
           0.010526315789473684,
           0.2,
           0.023809523809523808,
           0.3333333333333333,
           0.125,
           0.5,
           0.045454545454545456,
           1,
           0.011764705882352941,
           0.14285714285714285,
           0.08333333333333333,
           0.029411764705882353,
           0.03571428571428571,
           0.125,
           0.013333333333333334,
           1,
           0.006211180124223602,
           0.07142857142857142,
           0.25,
           0.08333333333333333,
           0.008771929824561403,
           0.14285714285714285,
           0.013513513513513514,
           0.2,
           0.25,
           0.058823529411764705,
           0.011627906976744186,
           0.043478260869565216,
           0.027777777777777776,
           0.047619047619047616,
           0.08333333333333333,
           1,
           1,
           0.0031746031746031746,
           0.0625,
           0.07692307692307693,
           0.5,
           0.5,
           0.06666666666666667,
           0.05,
           0.02857142857142857,
           0.03125,
           0.16666666666666666,
           0.015625,
           0.018518518518518517,
           0.5,
           0.022222222222222223,
           0.2,
           0.125,
           0.25,
           0.3333333333333333,
           0.25,
           0.007692307692307693,
           0.012195121951219513,
           0.3333333333333333,
           0.018867924528301886,
           0.125,
           0.018518518518518517,
           1,
           0.3333333333333333,
           0.045454545454545456,
           0.1111111111111111,
           0.08333333333333333,
           0.1111111111111111,
           0.3333333333333333,
           0.014925373134328358,
           0.1,
           0.06666666666666667,
           0.5,
           0.09090909090909091,
           0.013888888888888888,
           0.019230769230769232,
           0.058823529411764705,
           0.04,
           0.25,
           0.008928571428571428,
           0.05,
           0.3333333333333333,
           0.058823529411764705,
           0.14285714285714285,
           0.043478260869565216,
           0.010526315789473684,
           0.05,
           0.02,
           0.3333333333333333,
           0.14285714285714285,
           0.08333333333333333,
           0.07692307692307693,
           0.09090909090909091,
           0.5,
           0.03125,
           0.017543859649122806,
           0.3333333333333333,
           0.02,
           1,
           0.5,
           0.05,
           0.03571428571428571,
           0.1,
           0.25,
           0.2,
           0.030303030303030304,
           0.017857142857142856,
           0.14285714285714285,
           0.14285714285714285,
           0.029411764705882353,
           0.03125,
           0.0625,
           0.02040816326530612,
           0.07692307692307693,
           0.3333333333333333,
           0.2,
           0.5,
           0.01639344262295082,
           0.16666666666666666,
           0.008,
           0.013157894736842105,
           0.0625,
           0.008849557522123894,
           0.012195121951219513,
           0.010869565217391304,
           0.02857142857142857,
           0.3333333333333333,
           1,
           0.3333333333333333,
           0.008620689655172414,
           0.5,
           0.07142857142857142,
           0.015625,
           0.019230769230769232,
           0.018867924528301886,
           0.013888888888888888,
           0.1,
           0.06666666666666667,
           0.05263157894736842,
           0.125,
           0.07692307692307693,
           0.023255813953488372,
           1,
           1,
           1,
           1,
           1,
           1,
           1,
           1,
           1,
           1
          ],
          "sizemode": "area",
          "sizeref": 0.0025,
          "symbol": "circle"
         },
         "mode": "markers",
         "name": "",
         "orientation": "v",
         "showlegend": false,
         "type": "scatter",
         "x": [
          0,
          0,
          0.016666666666666666,
          0,
          0.34,
          0,
          0.46511627906976744,
          0,
          0,
          0,
          0,
          0,
          0,
          0,
          0.0379746835443038,
          0,
          0,
          0,
          0,
          0,
          0,
          0,
          0,
          0,
          0,
          0.008771929824561403,
          0,
          0,
          0,
          0.25,
          0.4000000000000001,
          0,
          0,
          0,
          0,
          0.47368421052631576,
          0.015151515151515152,
          0,
          0,
          0,
          0,
          0,
          0.8723404255319149,
          0.4958677685950413,
          0,
          0,
          0.11538461538461539,
          0,
          0,
          0,
          0,
          0,
          0,
          0,
          0,
          0,
          0,
          0.05,
          0,
          0.007751937984496124,
          0,
          0,
          0,
          0,
          0.041666666666666664,
          0,
          0,
          0,
          0,
          0,
          0,
          0,
          0,
          0,
          0,
          0,
          0,
          0,
          0,
          0,
          0,
          0,
          0.03571428571428571,
          0,
          0,
          0,
          0,
          0,
          0,
          0,
          0,
          0,
          0.05859375,
          0,
          0,
          0,
          0,
          0,
          0,
          0,
          0.24477861319966585,
          0.6039603960396039,
          0,
          0.2,
          0.06999282124910265,
          0,
          0.15873015873015875,
          0.2822909178049365,
          0,
          0.5,
          0.75,
          0.7894736842105263,
          0.024024024024024024,
          0,
          0,
          0.06176504094884876,
          0,
          0,
          0,
          0,
          0,
          0,
          0.896551724137931,
          0,
          0,
          0.17647058823529413,
          0,
          0,
          0.16666666666666666,
          0,
          0,
          0,
          0.6666666666666666,
          0,
          0.8742,
          0,
          0,
          0.42857142857142855,
          0,
          0,
          0,
          0,
          0,
          0.08196721311475409,
          0,
          0,
          0,
          0,
          0,
          0,
          0,
          0.9103194594378474,
          0.95,
          0,
          0.986644407345576,
          0.0019880557609879843,
          0,
          0,
          0,
          0,
          0,
          0.14285714285714285,
          0,
          0,
          0,
          0,
          0,
          0,
          0.15384615384615385,
          0,
          0,
          0.345679012345679,
          0.14285714285714285,
          0.08033240997229917,
          0,
          0,
          0,
          0.24489795918367346,
          0,
          0.13793103448275862,
          0,
          0,
          0,
          0,
          0,
          0,
          0,
          0,
          0,
          0,
          0,
          0,
          0,
          0,
          0,
          0,
          0.39473684210526316,
          0,
          0,
          0.38461538461538464,
          0,
          0,
          0,
          0,
          0,
          0,
          0.7289719626168224,
          0,
          0,
          0,
          0.3392857142857143,
          0.029411764705882353,
          0,
          0,
          0,
          0.38095238095238093,
          0,
          0,
          0,
          0,
          0,
          0.16666666666666666,
          0,
          0,
          0,
          0,
          0.5333333333333333,
          0,
          0,
          0,
          0.6876650563607086,
          0.2,
          0.6129032258064516,
          0,
          0,
          0.5,
          0,
          0,
          0.031793310209459275,
          0.23529411764705882,
          0,
          0.07638888888888888,
          0,
          0,
          0,
          0,
          0,
          0,
          0,
          0,
          0,
          0.08695652173913043,
          0,
          0,
          0,
          0.026119402985074626,
          0,
          0,
          0.3333333333333333,
          0,
          0,
          0,
          0.027777777777777776,
          0,
          0,
          0.03278688524590164,
          0,
          0,
          0,
          0.3333333333333333,
          0,
          0.9994689325544344,
          0,
          0,
          0,
          0,
          0.8125,
          0,
          0,
          0,
          0,
          0,
          0,
          0,
          0,
          0,
          0,
          0,
          0,
          0,
          0,
          0,
          0,
          0,
          0,
          0,
          0.3333333333333333,
          0.18609315134099616,
          0,
          0,
          0.46875,
          0,
          0,
          0.4530034235916589,
          0.17803030303030304,
          0,
          0,
          0,
          0,
          0,
          0,
          0,
          0,
          0.08171912832929783,
          0,
          0.5511111111111111,
          0,
          0,
          0,
          0,
          0.09090909090909091,
          0.2,
          0,
          0,
          0,
          0,
          0,
          0,
          0,
          0,
          0,
          0,
          0.25,
          0.7906976744186046,
          0.8571428571428571,
          0,
          0,
          0.008695652173913044,
          0.02,
          0,
          0.01,
          0.8971141781681304,
          0,
          0.03125,
          0,
          0.8,
          0.4166666666666667,
          0,
          0,
          0,
          0.02857142857142857,
          0.5055555555555555,
          0.47365432659550305,
          0.05752753977968175,
          0,
          0,
          0,
          0,
          0,
          0,
          0,
          0,
          0,
          0,
          0,
          0,
          0,
          0,
          0,
          0
         ],
         "xaxis": "x",
         "y": [
          0,
          0,
          0,
          0,
          0,
          0,
          0,
          0,
          0,
          0,
          0.013244444444444444,
          0,
          0,
          0,
          0,
          0,
          0,
          0,
          0,
          0.14201183431952663,
          0,
          0,
          0,
          0,
          0,
          0.5324715297014466,
          0.4444444444444444,
          0.5,
          0,
          0,
          0,
          0,
          0,
          0,
          0.2777777777777778,
          0.5,
          0,
          0,
          0.2777777777777778,
          0,
          0,
          0,
          0,
          0.1652892561983471,
          0.031242126480221715,
          0,
          0.40625,
          0,
          0,
          0,
          0,
          0.5,
          0,
          0,
          0,
          0,
          0,
          0,
          0,
          0.23309897241752298,
          0,
          0,
          0,
          0.027391975308641976,
          0,
          0,
          0.18,
          0.5,
          0,
          0,
          0,
          0,
          0,
          0,
          0,
          0,
          0,
          0,
          0,
          0,
          0,
          0,
          0,
          0,
          0,
          0,
          0.19753086419753085,
          0,
          0,
          0,
          0,
          0,
          0.1171875,
          0,
          0,
          0,
          0.4444444444444444,
          0,
          0,
          0,
          0.23415798611111113,
          0,
          0,
          0,
          0.0396959672735537,
          0,
          0,
          0.05029585798816568,
          0.041015625,
          0,
          0,
          0,
          0.05259313367421476,
          0,
          0,
          0.721057167480609,
          0.43060361399461744,
          0,
          0,
          0,
          0,
          0,
          0,
          0.2777777777777778,
          0.4444444444444444,
          0,
          0,
          0,
          0,
          0,
          0,
          0.15277777777777776,
          0,
          0,
          0.5,
          0.19753086419753085,
          0,
          0,
          0.4444444444444444,
          0,
          0,
          0,
          0,
          0,
          0,
          0,
          0,
          0,
          0.2603550295857988,
          0,
          0,
          0.05401234567901234,
          0,
          0,
          0,
          0.007944318344153267,
          0,
          0,
          0,
          0,
          0,
          0,
          0,
          0,
          0,
          0,
          0,
          0,
          0,
          0,
          0,
          0.4938271604938272,
          0,
          0,
          0,
          0,
          0.09070294784580499,
          0.4897959183673469,
          0,
          0,
          0.2777777777777778,
          0,
          0,
          0,
          0,
          0,
          0,
          0,
          0,
          0,
          0,
          0,
          0,
          0,
          0,
          0,
          0.65625,
          0,
          0.07888970051132213,
          0,
          0,
          0,
          0,
          0,
          0.72,
          0,
          0,
          0,
          0,
          0,
          0,
          0,
          0,
          0,
          0,
          0.19753086419753085,
          0,
          0,
          0,
          0,
          0,
          0,
          0,
          0.5,
          0,
          0,
          0.4444444444444444,
          0,
          0,
          0,
          0.02856542743121193,
          0.64,
          0,
          0,
          0,
          0,
          0,
          0,
          0.2718259326414876,
          0,
          0,
          0.15277777777777776,
          0.0768,
          0.4444444444444444,
          0,
          0,
          0,
          0,
          0,
          0,
          0,
          0,
          0,
          0,
          0,
          0,
          0,
          0,
          0,
          0,
          0,
          0,
          0,
          0,
          0,
          0,
          0.03635116598079561,
          0,
          0,
          0,
          0,
          0,
          0,
          0,
          0,
          0.03570247933884298,
          0,
          0,
          0,
          0,
          0,
          0,
          0,
          0,
          0,
          0,
          0,
          0,
          0,
          0,
          0,
          0,
          0.1574074074074074,
          0,
          0,
          0.2208,
          0,
          0.020616319444444444,
          0,
          0,
          0,
          0,
          0,
          0.046768707482993194,
          0.095,
          0,
          0,
          0,
          0,
          0,
          0,
          0,
          0,
          0.06951530612244898,
          0,
          0.11386593204775024,
          0,
          0,
          0,
          0,
          0,
          0,
          0,
          0,
          0,
          0,
          0,
          0,
          0,
          0,
          0,
          0,
          0.4444444444444444,
          0.32,
          0,
          0,
          0,
          0,
          0,
          0,
          0,
          0,
          0,
          0,
          0,
          0,
          0.5,
          0,
          0,
          0.19753086419753085,
          0,
          0.5,
          0.6712802768166091,
          0.24012979989183345,
          0,
          0,
          0,
          0,
          0,
          0.09070294784580499,
          0,
          0,
          0,
          0,
          0,
          0,
          0,
          0,
          0,
          0
         ],
         "yaxis": "y"
        },
        {
         "alignmentgroup": "True",
         "bingroup": "x",
         "hovertemplate": "expected_relative_extra=%{x}<br>count=%{y}<extra></extra>",
         "legendgroup": "",
         "marker": {
          "color": "#636efa"
         },
         "name": "",
         "offsetgroup": "",
         "opacity": 0.5,
         "showlegend": false,
         "type": "histogram",
         "x": [
          0,
          0,
          0.016666666666666666,
          0,
          0.34,
          0,
          0.46511627906976744,
          0,
          0,
          0,
          0,
          0,
          0,
          0,
          0.0379746835443038,
          0,
          0,
          0,
          0,
          0,
          0,
          0,
          0,
          0,
          0,
          0.008771929824561403,
          0,
          0,
          0,
          0.25,
          0.4000000000000001,
          0,
          0,
          0,
          0,
          0.47368421052631576,
          0.015151515151515152,
          0,
          0,
          0,
          0,
          0,
          0.8723404255319149,
          0.4958677685950413,
          0,
          0,
          0.11538461538461539,
          0,
          0,
          0,
          0,
          0,
          0,
          0,
          0,
          0,
          0,
          0.05,
          0,
          0.007751937984496124,
          0,
          0,
          0,
          0,
          0.041666666666666664,
          0,
          0,
          0,
          0,
          0,
          0,
          0,
          0,
          0,
          0,
          0,
          0,
          0,
          0,
          0,
          0,
          0,
          0.03571428571428571,
          0,
          0,
          0,
          0,
          0,
          0,
          0,
          0,
          0,
          0.05859375,
          0,
          0,
          0,
          0,
          0,
          0,
          0,
          0.24477861319966585,
          0.6039603960396039,
          0,
          0.2,
          0.06999282124910265,
          0,
          0.15873015873015875,
          0.2822909178049365,
          0,
          0.5,
          0.75,
          0.7894736842105263,
          0.024024024024024024,
          0,
          0,
          0.06176504094884876,
          0,
          0,
          0,
          0,
          0,
          0,
          0.896551724137931,
          0,
          0,
          0.17647058823529413,
          0,
          0,
          0.16666666666666666,
          0,
          0,
          0,
          0.6666666666666666,
          0,
          0.8742,
          0,
          0,
          0.42857142857142855,
          0,
          0,
          0,
          0,
          0,
          0.08196721311475409,
          0,
          0,
          0,
          0,
          0,
          0,
          0,
          0.9103194594378474,
          0.95,
          0,
          0.986644407345576,
          0.0019880557609879843,
          0,
          0,
          0,
          0,
          0,
          0.14285714285714285,
          0,
          0,
          0,
          0,
          0,
          0,
          0.15384615384615385,
          0,
          0,
          0.345679012345679,
          0.14285714285714285,
          0.08033240997229917,
          0,
          0,
          0,
          0.24489795918367346,
          0,
          0.13793103448275862,
          0,
          0,
          0,
          0,
          0,
          0,
          0,
          0,
          0,
          0,
          0,
          0,
          0,
          0,
          0,
          0,
          0.39473684210526316,
          0,
          0,
          0.38461538461538464,
          0,
          0,
          0,
          0,
          0,
          0,
          0.7289719626168224,
          0,
          0,
          0,
          0.3392857142857143,
          0.029411764705882353,
          0,
          0,
          0,
          0.38095238095238093,
          0,
          0,
          0,
          0,
          0,
          0.16666666666666666,
          0,
          0,
          0,
          0,
          0.5333333333333333,
          0,
          0,
          0,
          0.6876650563607086,
          0.2,
          0.6129032258064516,
          0,
          0,
          0.5,
          0,
          0,
          0.031793310209459275,
          0.23529411764705882,
          0,
          0.07638888888888888,
          0,
          0,
          0,
          0,
          0,
          0,
          0,
          0,
          0,
          0.08695652173913043,
          0,
          0,
          0,
          0.026119402985074626,
          0,
          0,
          0.3333333333333333,
          0,
          0,
          0,
          0.027777777777777776,
          0,
          0,
          0.03278688524590164,
          0,
          0,
          0,
          0.3333333333333333,
          0,
          0.9994689325544344,
          0,
          0,
          0,
          0,
          0.8125,
          0,
          0,
          0,
          0,
          0,
          0,
          0,
          0,
          0,
          0,
          0,
          0,
          0,
          0,
          0,
          0,
          0,
          0,
          0,
          0.3333333333333333,
          0.18609315134099616,
          0,
          0,
          0.46875,
          0,
          0,
          0.4530034235916589,
          0.17803030303030304,
          0,
          0,
          0,
          0,
          0,
          0,
          0,
          0,
          0.08171912832929783,
          0,
          0.5511111111111111,
          0,
          0,
          0,
          0,
          0.09090909090909091,
          0.2,
          0,
          0,
          0,
          0,
          0,
          0,
          0,
          0,
          0,
          0,
          0.25,
          0.7906976744186046,
          0.8571428571428571,
          0,
          0,
          0.008695652173913044,
          0.02,
          0,
          0.01,
          0.8971141781681304,
          0,
          0.03125,
          0,
          0.8,
          0.4166666666666667,
          0,
          0,
          0,
          0.02857142857142857,
          0.5055555555555555,
          0.47365432659550305,
          0.05752753977968175,
          0,
          0,
          0,
          0,
          0,
          0,
          0,
          0,
          0,
          0,
          0,
          0,
          0,
          0,
          0,
          0
         ],
         "xaxis": "x3",
         "yaxis": "y3"
        },
        {
         "alignmentgroup": "True",
         "bingroup": "y",
         "hovertemplate": "expected_relative_missing=%{y}<br>count=%{x}<extra></extra>",
         "legendgroup": "",
         "marker": {
          "color": "#636efa"
         },
         "name": "",
         "offsetgroup": "",
         "opacity": 0.5,
         "showlegend": false,
         "type": "histogram",
         "xaxis": "x2",
         "y": [
          0,
          0,
          0,
          0,
          0,
          0,
          0,
          0,
          0,
          0,
          0.013244444444444444,
          0,
          0,
          0,
          0,
          0,
          0,
          0,
          0,
          0.14201183431952663,
          0,
          0,
          0,
          0,
          0,
          0.5324715297014466,
          0.4444444444444444,
          0.5,
          0,
          0,
          0,
          0,
          0,
          0,
          0.2777777777777778,
          0.5,
          0,
          0,
          0.2777777777777778,
          0,
          0,
          0,
          0,
          0.1652892561983471,
          0.031242126480221715,
          0,
          0.40625,
          0,
          0,
          0,
          0,
          0.5,
          0,
          0,
          0,
          0,
          0,
          0,
          0,
          0.23309897241752298,
          0,
          0,
          0,
          0.027391975308641976,
          0,
          0,
          0.18,
          0.5,
          0,
          0,
          0,
          0,
          0,
          0,
          0,
          0,
          0,
          0,
          0,
          0,
          0,
          0,
          0,
          0,
          0,
          0,
          0.19753086419753085,
          0,
          0,
          0,
          0,
          0,
          0.1171875,
          0,
          0,
          0,
          0.4444444444444444,
          0,
          0,
          0,
          0.23415798611111113,
          0,
          0,
          0,
          0.0396959672735537,
          0,
          0,
          0.05029585798816568,
          0.041015625,
          0,
          0,
          0,
          0.05259313367421476,
          0,
          0,
          0.721057167480609,
          0.43060361399461744,
          0,
          0,
          0,
          0,
          0,
          0,
          0.2777777777777778,
          0.4444444444444444,
          0,
          0,
          0,
          0,
          0,
          0,
          0.15277777777777776,
          0,
          0,
          0.5,
          0.19753086419753085,
          0,
          0,
          0.4444444444444444,
          0,
          0,
          0,
          0,
          0,
          0,
          0,
          0,
          0,
          0.2603550295857988,
          0,
          0,
          0.05401234567901234,
          0,
          0,
          0,
          0.007944318344153267,
          0,
          0,
          0,
          0,
          0,
          0,
          0,
          0,
          0,
          0,
          0,
          0,
          0,
          0,
          0,
          0.4938271604938272,
          0,
          0,
          0,
          0,
          0.09070294784580499,
          0.4897959183673469,
          0,
          0,
          0.2777777777777778,
          0,
          0,
          0,
          0,
          0,
          0,
          0,
          0,
          0,
          0,
          0,
          0,
          0,
          0,
          0,
          0.65625,
          0,
          0.07888970051132213,
          0,
          0,
          0,
          0,
          0,
          0.72,
          0,
          0,
          0,
          0,
          0,
          0,
          0,
          0,
          0,
          0,
          0.19753086419753085,
          0,
          0,
          0,
          0,
          0,
          0,
          0,
          0.5,
          0,
          0,
          0.4444444444444444,
          0,
          0,
          0,
          0.02856542743121193,
          0.64,
          0,
          0,
          0,
          0,
          0,
          0,
          0.2718259326414876,
          0,
          0,
          0.15277777777777776,
          0.0768,
          0.4444444444444444,
          0,
          0,
          0,
          0,
          0,
          0,
          0,
          0,
          0,
          0,
          0,
          0,
          0,
          0,
          0,
          0,
          0,
          0,
          0,
          0,
          0,
          0,
          0.03635116598079561,
          0,
          0,
          0,
          0,
          0,
          0,
          0,
          0,
          0.03570247933884298,
          0,
          0,
          0,
          0,
          0,
          0,
          0,
          0,
          0,
          0,
          0,
          0,
          0,
          0,
          0,
          0,
          0.1574074074074074,
          0,
          0,
          0.2208,
          0,
          0.020616319444444444,
          0,
          0,
          0,
          0,
          0,
          0.046768707482993194,
          0.095,
          0,
          0,
          0,
          0,
          0,
          0,
          0,
          0,
          0.06951530612244898,
          0,
          0.11386593204775024,
          0,
          0,
          0,
          0,
          0,
          0,
          0,
          0,
          0,
          0,
          0,
          0,
          0,
          0,
          0,
          0,
          0.4444444444444444,
          0.32,
          0,
          0,
          0,
          0,
          0,
          0,
          0,
          0,
          0,
          0,
          0,
          0,
          0.5,
          0,
          0,
          0.19753086419753085,
          0,
          0.5,
          0.6712802768166091,
          0.24012979989183345,
          0,
          0,
          0,
          0,
          0,
          0.09070294784580499,
          0,
          0,
          0,
          0,
          0,
          0,
          0,
          0,
          0,
          0
         ],
         "yaxis": "y2"
        }
       ],
       "layout": {
        "barmode": "overlay",
        "legend": {
         "itemsizing": "constant",
         "tracegroupgap": 0
        },
        "margin": {
         "t": 60
        },
        "template": {
         "data": {
          "bar": [
           {
            "error_x": {
             "color": "#2a3f5f"
            },
            "error_y": {
             "color": "#2a3f5f"
            },
            "marker": {
             "line": {
              "color": "#E5ECF6",
              "width": 0.5
             },
             "pattern": {
              "fillmode": "overlay",
              "size": 10,
              "solidity": 0.2
             }
            },
            "type": "bar"
           }
          ],
          "barpolar": [
           {
            "marker": {
             "line": {
              "color": "#E5ECF6",
              "width": 0.5
             },
             "pattern": {
              "fillmode": "overlay",
              "size": 10,
              "solidity": 0.2
             }
            },
            "type": "barpolar"
           }
          ],
          "carpet": [
           {
            "aaxis": {
             "endlinecolor": "#2a3f5f",
             "gridcolor": "white",
             "linecolor": "white",
             "minorgridcolor": "white",
             "startlinecolor": "#2a3f5f"
            },
            "baxis": {
             "endlinecolor": "#2a3f5f",
             "gridcolor": "white",
             "linecolor": "white",
             "minorgridcolor": "white",
             "startlinecolor": "#2a3f5f"
            },
            "type": "carpet"
           }
          ],
          "choropleth": [
           {
            "colorbar": {
             "outlinewidth": 0,
             "ticks": ""
            },
            "type": "choropleth"
           }
          ],
          "contour": [
           {
            "colorbar": {
             "outlinewidth": 0,
             "ticks": ""
            },
            "colorscale": [
             [
              0,
              "#0d0887"
             ],
             [
              0.1111111111111111,
              "#46039f"
             ],
             [
              0.2222222222222222,
              "#7201a8"
             ],
             [
              0.3333333333333333,
              "#9c179e"
             ],
             [
              0.4444444444444444,
              "#bd3786"
             ],
             [
              0.5555555555555556,
              "#d8576b"
             ],
             [
              0.6666666666666666,
              "#ed7953"
             ],
             [
              0.7777777777777778,
              "#fb9f3a"
             ],
             [
              0.8888888888888888,
              "#fdca26"
             ],
             [
              1,
              "#f0f921"
             ]
            ],
            "type": "contour"
           }
          ],
          "contourcarpet": [
           {
            "colorbar": {
             "outlinewidth": 0,
             "ticks": ""
            },
            "type": "contourcarpet"
           }
          ],
          "heatmap": [
           {
            "colorbar": {
             "outlinewidth": 0,
             "ticks": ""
            },
            "colorscale": [
             [
              0,
              "#0d0887"
             ],
             [
              0.1111111111111111,
              "#46039f"
             ],
             [
              0.2222222222222222,
              "#7201a8"
             ],
             [
              0.3333333333333333,
              "#9c179e"
             ],
             [
              0.4444444444444444,
              "#bd3786"
             ],
             [
              0.5555555555555556,
              "#d8576b"
             ],
             [
              0.6666666666666666,
              "#ed7953"
             ],
             [
              0.7777777777777778,
              "#fb9f3a"
             ],
             [
              0.8888888888888888,
              "#fdca26"
             ],
             [
              1,
              "#f0f921"
             ]
            ],
            "type": "heatmap"
           }
          ],
          "heatmapgl": [
           {
            "colorbar": {
             "outlinewidth": 0,
             "ticks": ""
            },
            "colorscale": [
             [
              0,
              "#0d0887"
             ],
             [
              0.1111111111111111,
              "#46039f"
             ],
             [
              0.2222222222222222,
              "#7201a8"
             ],
             [
              0.3333333333333333,
              "#9c179e"
             ],
             [
              0.4444444444444444,
              "#bd3786"
             ],
             [
              0.5555555555555556,
              "#d8576b"
             ],
             [
              0.6666666666666666,
              "#ed7953"
             ],
             [
              0.7777777777777778,
              "#fb9f3a"
             ],
             [
              0.8888888888888888,
              "#fdca26"
             ],
             [
              1,
              "#f0f921"
             ]
            ],
            "type": "heatmapgl"
           }
          ],
          "histogram": [
           {
            "marker": {
             "pattern": {
              "fillmode": "overlay",
              "size": 10,
              "solidity": 0.2
             }
            },
            "type": "histogram"
           }
          ],
          "histogram2d": [
           {
            "colorbar": {
             "outlinewidth": 0,
             "ticks": ""
            },
            "colorscale": [
             [
              0,
              "#0d0887"
             ],
             [
              0.1111111111111111,
              "#46039f"
             ],
             [
              0.2222222222222222,
              "#7201a8"
             ],
             [
              0.3333333333333333,
              "#9c179e"
             ],
             [
              0.4444444444444444,
              "#bd3786"
             ],
             [
              0.5555555555555556,
              "#d8576b"
             ],
             [
              0.6666666666666666,
              "#ed7953"
             ],
             [
              0.7777777777777778,
              "#fb9f3a"
             ],
             [
              0.8888888888888888,
              "#fdca26"
             ],
             [
              1,
              "#f0f921"
             ]
            ],
            "type": "histogram2d"
           }
          ],
          "histogram2dcontour": [
           {
            "colorbar": {
             "outlinewidth": 0,
             "ticks": ""
            },
            "colorscale": [
             [
              0,
              "#0d0887"
             ],
             [
              0.1111111111111111,
              "#46039f"
             ],
             [
              0.2222222222222222,
              "#7201a8"
             ],
             [
              0.3333333333333333,
              "#9c179e"
             ],
             [
              0.4444444444444444,
              "#bd3786"
             ],
             [
              0.5555555555555556,
              "#d8576b"
             ],
             [
              0.6666666666666666,
              "#ed7953"
             ],
             [
              0.7777777777777778,
              "#fb9f3a"
             ],
             [
              0.8888888888888888,
              "#fdca26"
             ],
             [
              1,
              "#f0f921"
             ]
            ],
            "type": "histogram2dcontour"
           }
          ],
          "mesh3d": [
           {
            "colorbar": {
             "outlinewidth": 0,
             "ticks": ""
            },
            "type": "mesh3d"
           }
          ],
          "parcoords": [
           {
            "line": {
             "colorbar": {
              "outlinewidth": 0,
              "ticks": ""
             }
            },
            "type": "parcoords"
           }
          ],
          "pie": [
           {
            "automargin": true,
            "type": "pie"
           }
          ],
          "scatter": [
           {
            "fillpattern": {
             "fillmode": "overlay",
             "size": 10,
             "solidity": 0.2
            },
            "type": "scatter"
           }
          ],
          "scatter3d": [
           {
            "line": {
             "colorbar": {
              "outlinewidth": 0,
              "ticks": ""
             }
            },
            "marker": {
             "colorbar": {
              "outlinewidth": 0,
              "ticks": ""
             }
            },
            "type": "scatter3d"
           }
          ],
          "scattercarpet": [
           {
            "marker": {
             "colorbar": {
              "outlinewidth": 0,
              "ticks": ""
             }
            },
            "type": "scattercarpet"
           }
          ],
          "scattergeo": [
           {
            "marker": {
             "colorbar": {
              "outlinewidth": 0,
              "ticks": ""
             }
            },
            "type": "scattergeo"
           }
          ],
          "scattergl": [
           {
            "marker": {
             "colorbar": {
              "outlinewidth": 0,
              "ticks": ""
             }
            },
            "type": "scattergl"
           }
          ],
          "scattermapbox": [
           {
            "marker": {
             "colorbar": {
              "outlinewidth": 0,
              "ticks": ""
             }
            },
            "type": "scattermapbox"
           }
          ],
          "scatterpolar": [
           {
            "marker": {
             "colorbar": {
              "outlinewidth": 0,
              "ticks": ""
             }
            },
            "type": "scatterpolar"
           }
          ],
          "scatterpolargl": [
           {
            "marker": {
             "colorbar": {
              "outlinewidth": 0,
              "ticks": ""
             }
            },
            "type": "scatterpolargl"
           }
          ],
          "scatterternary": [
           {
            "marker": {
             "colorbar": {
              "outlinewidth": 0,
              "ticks": ""
             }
            },
            "type": "scatterternary"
           }
          ],
          "surface": [
           {
            "colorbar": {
             "outlinewidth": 0,
             "ticks": ""
            },
            "colorscale": [
             [
              0,
              "#0d0887"
             ],
             [
              0.1111111111111111,
              "#46039f"
             ],
             [
              0.2222222222222222,
              "#7201a8"
             ],
             [
              0.3333333333333333,
              "#9c179e"
             ],
             [
              0.4444444444444444,
              "#bd3786"
             ],
             [
              0.5555555555555556,
              "#d8576b"
             ],
             [
              0.6666666666666666,
              "#ed7953"
             ],
             [
              0.7777777777777778,
              "#fb9f3a"
             ],
             [
              0.8888888888888888,
              "#fdca26"
             ],
             [
              1,
              "#f0f921"
             ]
            ],
            "type": "surface"
           }
          ],
          "table": [
           {
            "cells": {
             "fill": {
              "color": "#EBF0F8"
             },
             "line": {
              "color": "white"
             }
            },
            "header": {
             "fill": {
              "color": "#C8D4E3"
             },
             "line": {
              "color": "white"
             }
            },
            "type": "table"
           }
          ]
         },
         "layout": {
          "annotationdefaults": {
           "arrowcolor": "#2a3f5f",
           "arrowhead": 0,
           "arrowwidth": 1
          },
          "autotypenumbers": "strict",
          "coloraxis": {
           "colorbar": {
            "outlinewidth": 0,
            "ticks": ""
           }
          },
          "colorscale": {
           "diverging": [
            [
             0,
             "#8e0152"
            ],
            [
             0.1,
             "#c51b7d"
            ],
            [
             0.2,
             "#de77ae"
            ],
            [
             0.3,
             "#f1b6da"
            ],
            [
             0.4,
             "#fde0ef"
            ],
            [
             0.5,
             "#f7f7f7"
            ],
            [
             0.6,
             "#e6f5d0"
            ],
            [
             0.7,
             "#b8e186"
            ],
            [
             0.8,
             "#7fbc41"
            ],
            [
             0.9,
             "#4d9221"
            ],
            [
             1,
             "#276419"
            ]
           ],
           "sequential": [
            [
             0,
             "#0d0887"
            ],
            [
             0.1111111111111111,
             "#46039f"
            ],
            [
             0.2222222222222222,
             "#7201a8"
            ],
            [
             0.3333333333333333,
             "#9c179e"
            ],
            [
             0.4444444444444444,
             "#bd3786"
            ],
            [
             0.5555555555555556,
             "#d8576b"
            ],
            [
             0.6666666666666666,
             "#ed7953"
            ],
            [
             0.7777777777777778,
             "#fb9f3a"
            ],
            [
             0.8888888888888888,
             "#fdca26"
            ],
            [
             1,
             "#f0f921"
            ]
           ],
           "sequentialminus": [
            [
             0,
             "#0d0887"
            ],
            [
             0.1111111111111111,
             "#46039f"
            ],
            [
             0.2222222222222222,
             "#7201a8"
            ],
            [
             0.3333333333333333,
             "#9c179e"
            ],
            [
             0.4444444444444444,
             "#bd3786"
            ],
            [
             0.5555555555555556,
             "#d8576b"
            ],
            [
             0.6666666666666666,
             "#ed7953"
            ],
            [
             0.7777777777777778,
             "#fb9f3a"
            ],
            [
             0.8888888888888888,
             "#fdca26"
            ],
            [
             1,
             "#f0f921"
            ]
           ]
          },
          "colorway": [
           "#636efa",
           "#EF553B",
           "#00cc96",
           "#ab63fa",
           "#FFA15A",
           "#19d3f3",
           "#FF6692",
           "#B6E880",
           "#FF97FF",
           "#FECB52"
          ],
          "font": {
           "color": "#2a3f5f"
          },
          "geo": {
           "bgcolor": "white",
           "lakecolor": "white",
           "landcolor": "#E5ECF6",
           "showlakes": true,
           "showland": true,
           "subunitcolor": "white"
          },
          "hoverlabel": {
           "align": "left"
          },
          "hovermode": "closest",
          "mapbox": {
           "style": "light"
          },
          "paper_bgcolor": "white",
          "plot_bgcolor": "#E5ECF6",
          "polar": {
           "angularaxis": {
            "gridcolor": "white",
            "linecolor": "white",
            "ticks": ""
           },
           "bgcolor": "#E5ECF6",
           "radialaxis": {
            "gridcolor": "white",
            "linecolor": "white",
            "ticks": ""
           }
          },
          "scene": {
           "xaxis": {
            "backgroundcolor": "#E5ECF6",
            "gridcolor": "white",
            "gridwidth": 2,
            "linecolor": "white",
            "showbackground": true,
            "ticks": "",
            "zerolinecolor": "white"
           },
           "yaxis": {
            "backgroundcolor": "#E5ECF6",
            "gridcolor": "white",
            "gridwidth": 2,
            "linecolor": "white",
            "showbackground": true,
            "ticks": "",
            "zerolinecolor": "white"
           },
           "zaxis": {
            "backgroundcolor": "#E5ECF6",
            "gridcolor": "white",
            "gridwidth": 2,
            "linecolor": "white",
            "showbackground": true,
            "ticks": "",
            "zerolinecolor": "white"
           }
          },
          "shapedefaults": {
           "line": {
            "color": "#2a3f5f"
           }
          },
          "ternary": {
           "aaxis": {
            "gridcolor": "white",
            "linecolor": "white",
            "ticks": ""
           },
           "baxis": {
            "gridcolor": "white",
            "linecolor": "white",
            "ticks": ""
           },
           "bgcolor": "#E5ECF6",
           "caxis": {
            "gridcolor": "white",
            "linecolor": "white",
            "ticks": ""
           }
          },
          "title": {
           "x": 0.05
          },
          "xaxis": {
           "automargin": true,
           "gridcolor": "white",
           "linecolor": "white",
           "ticks": "",
           "title": {
            "standoff": 15
           },
           "zerolinecolor": "white",
           "zerolinewidth": 2
          },
          "yaxis": {
           "automargin": true,
           "gridcolor": "white",
           "linecolor": "white",
           "ticks": "",
           "title": {
            "standoff": 15
           },
           "zerolinecolor": "white",
           "zerolinewidth": 2
          }
         }
        },
        "title": {
         "text": "Cluster-Wise Error Metrics"
        },
        "xaxis": {
         "anchor": "y",
         "domain": [
          0,
          0.7363
         ],
         "title": {
          "text": "expected_relative_extra"
         }
        },
        "xaxis2": {
         "anchor": "y2",
         "domain": [
          0.7413,
          1
         ],
         "matches": "x2",
         "showgrid": true,
         "showline": false,
         "showticklabels": false,
         "ticks": ""
        },
        "xaxis3": {
         "anchor": "y3",
         "domain": [
          0,
          0.7363
         ],
         "matches": "x",
         "showgrid": true,
         "showticklabels": false
        },
        "xaxis4": {
         "anchor": "y4",
         "domain": [
          0.7413,
          1
         ],
         "matches": "x2",
         "showgrid": true,
         "showline": false,
         "showticklabels": false,
         "ticks": ""
        },
        "yaxis": {
         "anchor": "x",
         "domain": [
          0,
          0.7326
         ],
         "title": {
          "text": "expected_relative_missing"
         }
        },
        "yaxis2": {
         "anchor": "x2",
         "domain": [
          0,
          0.7326
         ],
         "matches": "y",
         "showgrid": true,
         "showticklabels": false
        },
        "yaxis3": {
         "anchor": "x3",
         "domain": [
          0.7426,
          1
         ],
         "matches": "y3",
         "showgrid": true,
         "showline": false,
         "showticklabels": false,
         "ticks": ""
        },
        "yaxis4": {
         "anchor": "x4",
         "domain": [
          0.7426,
          1
         ],
         "matches": "y3",
         "showgrid": true,
         "showline": false,
         "showticklabels": false,
         "ticks": ""
        }
       }
      }
     },
     "metadata": {},
     "output_type": "display_data"
    }
   ],
   "source": [
    "from er_evaluation.plots import plot_cluster_errors\n",
    "\n",
    "weights = 1/reference.value_counts()\n",
    "\n",
    "plot_cluster_errors(predictions[list(predictions.keys())[0]], reference, weights=weights)"
   ]
  },
  {
   "attachments": {},
   "cell_type": "markdown",
   "metadata": {},
   "source": [
    "## Fairness Analysis"
   ]
  },
  {
   "cell_type": "code",
   "execution_count": 6,
   "metadata": {},
   "outputs": [
    {
     "data": {
      "application/vnd.plotly.v1+json": {
       "config": {
        "plotlyServerURL": "https://plot.ly"
       },
       "data": [
        {
         "cliponaxis": false,
         "hovertemplate": [
          "%{y}: %{x} (group size: 3)<extra></extra>",
          "baseline: %{x} (group size: 401)<extra></extra>"
         ],
         "legendgroup": "Positive differences",
         "line": {
          "color": "limegreen",
          "width": 8
         },
         "marker": {
          "color": [
           "white",
           "#222222"
          ],
          "line": {
           "color": [
            "limegreen",
            "limegreen"
           ],
           "width": [
            2,
            2
           ]
          },
          "size": 6,
          "symbol": 0
         },
         "mode": "lines+text+markers",
         "opacity": 1,
         "showlegend": false,
         "type": "scatter",
         "x": [
          0.9926537417442056,
          0.9371681204404455
         ],
         "xaxis": "x",
         "y": [
          "D",
          "D"
         ],
         "yaxis": "y"
        },
        {
         "cliponaxis": false,
         "error_x": {
          "array": [
           0.0039031333266229067,
           0.010706518560063265
          ],
          "color": "black",
          "thickness": 0.75
         },
         "hoverinfo": "skip",
         "legendgroup": "Positive differences",
         "marker": {
          "color": [
           "white",
           "#222222"
          ],
          "size": 6,
          "symbol": 0
         },
         "mode": "markers",
         "opacity": 1,
         "showlegend": false,
         "type": "scatter",
         "x": [
          0.9926537417442056,
          0.9371681204404455
         ],
         "xaxis": "x",
         "y": [
          "D",
          "D"
         ],
         "yaxis": "y"
        },
        {
         "cliponaxis": false,
         "hovertemplate": [
          "%{y}: %{x} (group size: 37)<extra></extra>",
          "baseline: %{x} (group size: 401)<extra></extra>"
         ],
         "legendgroup": "Positive differences",
         "line": {
          "color": "limegreen",
          "width": 8
         },
         "marker": {
          "color": [
           "white",
           "#222222"
          ],
          "line": {
           "color": [
            "limegreen",
            "limegreen"
           ],
           "width": [
            2,
            2
           ]
          },
          "size": 6,
          "symbol": 0
         },
         "mode": "lines+text+markers",
         "opacity": 1,
         "showlegend": false,
         "type": "scatter",
         "x": [
          0.9811196039835679,
          0.9371681204404455
         ],
         "xaxis": "x",
         "y": [
          "C",
          "C"
         ],
         "yaxis": "y"
        },
        {
         "cliponaxis": false,
         "error_x": {
          "array": [
           0.013582384231800899,
           0.010706518560063265
          ],
          "color": "black",
          "thickness": 0.75
         },
         "hoverinfo": "skip",
         "legendgroup": "Positive differences",
         "marker": {
          "color": [
           "white",
           "#222222"
          ],
          "size": 6,
          "symbol": 0
         },
         "mode": "markers",
         "opacity": 1,
         "showlegend": false,
         "type": "scatter",
         "x": [
          0.9811196039835679,
          0.9371681204404455
         ],
         "xaxis": "x",
         "y": [
          "C",
          "C"
         ],
         "yaxis": "y"
        },
        {
         "cliponaxis": false,
         "hovertemplate": [
          "%{y}: %{x} (group size: 43)<extra></extra>",
          "baseline: %{x} (group size: 401)<extra></extra>"
         ],
         "legendgroup": "Positive differences",
         "line": {
          "color": "limegreen",
          "width": 8
         },
         "marker": {
          "color": [
           "white",
           "#222222"
          ],
          "line": {
           "color": [
            "limegreen",
            "limegreen"
           ],
           "width": [
            2,
            2
           ]
          },
          "size": 6,
          "symbol": 0
         },
         "mode": "lines+text+markers",
         "opacity": 1,
         "showlegend": false,
         "type": "scatter",
         "x": [
          0.961920666529861,
          0.9371681204404455
         ],
         "xaxis": "x",
         "y": [
          "B",
          "B"
         ],
         "yaxis": "y"
        },
        {
         "cliponaxis": false,
         "error_x": {
          "array": [
           0.015485989945913534,
           0.010706518560063265
          ],
          "color": "black",
          "thickness": 0.75
         },
         "hoverinfo": "skip",
         "legendgroup": "Positive differences",
         "marker": {
          "color": [
           "white",
           "#222222"
          ],
          "size": 6,
          "symbol": 0
         },
         "mode": "markers",
         "opacity": 1,
         "showlegend": false,
         "type": "scatter",
         "x": [
          0.961920666529861,
          0.9371681204404455
         ],
         "xaxis": "x",
         "y": [
          "B",
          "B"
         ],
         "yaxis": "y"
        },
        {
         "cliponaxis": false,
         "hovertemplate": [
          "%{y}: %{x} (group size: 22)<extra></extra>",
          "baseline: %{x} (group size: 401)<extra></extra>"
         ],
         "legendgroup": "Positive differences",
         "line": {
          "color": "limegreen",
          "width": 8
         },
         "marker": {
          "color": [
           "white",
           "#222222"
          ],
          "line": {
           "color": [
            "limegreen",
            "limegreen"
           ],
           "width": [
            2,
            2
           ]
          },
          "size": 6,
          "symbol": 0
         },
         "mode": "lines+text+markers",
         "opacity": 1,
         "showlegend": false,
         "type": "scatter",
         "x": [
          0.9598632139437405,
          0.9371681204404455
         ],
         "xaxis": "x",
         "y": [
          "None",
          "None"
         ],
         "yaxis": "y"
        },
        {
         "cliponaxis": false,
         "error_x": {
          "array": [
           0.019624562942953002,
           0.010706518560063265
          ],
          "color": "black",
          "thickness": 0.75
         },
         "hoverinfo": "skip",
         "legendgroup": "Positive differences",
         "marker": {
          "color": [
           "white",
           "#222222"
          ],
          "size": 6,
          "symbol": 0
         },
         "mode": "markers",
         "opacity": 1,
         "showlegend": false,
         "type": "scatter",
         "x": [
          0.9598632139437405,
          0.9371681204404455
         ],
         "xaxis": "x",
         "y": [
          "None",
          "None"
         ],
         "yaxis": "y"
        },
        {
         "cliponaxis": false,
         "hovertemplate": [
          "%{y}: %{x} (group size: 18)<extra></extra>",
          "baseline: %{x} (group size: 401)<extra></extra>"
         ],
         "legendgroup": "Positive differences",
         "line": {
          "color": "limegreen",
          "width": 8
         },
         "marker": {
          "color": [
           "white",
           "#222222"
          ],
          "line": {
           "color": [
            "limegreen",
            "limegreen"
           ],
           "width": [
            2,
            2
           ]
          },
          "size": 6,
          "symbol": 0
         },
         "mode": "lines+text+markers",
         "opacity": 1,
         "showlegend": false,
         "type": "scatter",
         "x": [
          0.9477516633300012,
          0.9371681204404455
         ],
         "xaxis": "x",
         "y": [
          "F",
          "F"
         ],
         "yaxis": "y"
        },
        {
         "cliponaxis": false,
         "error_x": {
          "array": [
           0.025462716970043608,
           0.010706518560063265
          ],
          "color": "black",
          "thickness": 0.75
         },
         "hoverinfo": "skip",
         "legendgroup": "Positive differences",
         "marker": {
          "color": [
           "white",
           "#222222"
          ],
          "size": 6,
          "symbol": 0
         },
         "mode": "markers",
         "opacity": 1,
         "showlegend": false,
         "type": "scatter",
         "x": [
          0.9477516633300012,
          0.9371681204404455
         ],
         "xaxis": "x",
         "y": [
          "F",
          "F"
         ],
         "yaxis": "y"
        },
        {
         "cliponaxis": false,
         "hovertemplate": [
          "%{y}: %{x} (group size: 89)<extra></extra>",
          "baseline: %{x} (group size: 401)<extra></extra>"
         ],
         "legendgroup": "Positive differences",
         "line": {
          "color": "limegreen",
          "width": 8
         },
         "marker": {
          "color": [
           "white",
           "#222222"
          ],
          "line": {
           "color": [
            "limegreen",
            "limegreen"
           ],
           "width": [
            2,
            2
           ]
          },
          "size": 6,
          "symbol": 0
         },
         "mode": "lines+text+markers",
         "opacity": 1,
         "showlegend": false,
         "type": "scatter",
         "x": [
          0.9408635789822435,
          0.9371681204404455
         ],
         "xaxis": "x",
         "y": [
          "H",
          "H"
         ],
         "yaxis": "y"
        },
        {
         "cliponaxis": false,
         "error_x": {
          "array": [
           0.01618974650471241,
           0.010706518560063265
          ],
          "color": "black",
          "thickness": 0.75
         },
         "hoverinfo": "skip",
         "legendgroup": "Positive differences",
         "marker": {
          "color": [
           "white",
           "#222222"
          ],
          "size": 6,
          "symbol": 0
         },
         "mode": "markers",
         "opacity": 1,
         "showlegend": false,
         "type": "scatter",
         "x": [
          0.9408635789822435,
          0.9371681204404455
         ],
         "xaxis": "x",
         "y": [
          "H",
          "H"
         ],
         "yaxis": "y"
        },
        {
         "cliponaxis": false,
         "hovertemplate": [
          "%{y}: %{x} (group size: 102)<extra></extra>",
          "baseline: %{x} (group size: 401)<extra></extra>"
         ],
         "legendgroup": "Negative differences",
         "line": {
          "color": "orangered",
          "width": 8
         },
         "marker": {
          "color": [
           "white",
           "#222222"
          ],
          "line": {
           "color": [
            "orangered",
            "orangered"
           ],
           "width": [
            2,
            2
           ]
          },
          "size": 6,
          "symbol": 0
         },
         "mode": "lines+text+markers",
         "opacity": 1,
         "showlegend": false,
         "type": "scatter",
         "x": [
          0.9335188813828106,
          0.9371681204404455
         ],
         "xaxis": "x",
         "y": [
          "G",
          "G"
         ],
         "yaxis": "y"
        },
        {
         "cliponaxis": false,
         "error_x": {
          "array": [
           0.018208311512484688,
           0.010706518560063265
          ],
          "color": "black",
          "thickness": 0.75
         },
         "hoverinfo": "skip",
         "legendgroup": "Negative differences",
         "marker": {
          "color": [
           "white",
           "#222222"
          ],
          "size": 6,
          "symbol": 0
         },
         "mode": "markers",
         "opacity": 1,
         "showlegend": false,
         "type": "scatter",
         "x": [
          0.9335188813828106,
          0.9371681204404455
         ],
         "xaxis": "x",
         "y": [
          "G",
          "G"
         ],
         "yaxis": "y"
        },
        {
         "cliponaxis": false,
         "hovertemplate": [
          "%{y}: %{x} (group size: 50)<extra></extra>",
          "baseline: %{x} (group size: 401)<extra></extra>"
         ],
         "legendgroup": "Negative differences",
         "line": {
          "color": "orangered",
          "width": 8
         },
         "marker": {
          "color": [
           "white",
           "#222222"
          ],
          "line": {
           "color": [
            "orangered",
            "orangered"
           ],
           "width": [
            2,
            2
           ]
          },
          "size": 6,
          "symbol": 0
         },
         "mode": "lines+text+markers",
         "opacity": 1,
         "showlegend": false,
         "type": "scatter",
         "x": [
          0.914767116281536,
          0.9371681204404455
         ],
         "xaxis": "x",
         "y": [
          "A",
          "A"
         ],
         "yaxis": "y"
        },
        {
         "cliponaxis": false,
         "error_x": {
          "array": [
           0.03713200137081081,
           0.010706518560063265
          ],
          "color": "black",
          "thickness": 0.75
         },
         "hoverinfo": "skip",
         "legendgroup": "Negative differences",
         "marker": {
          "color": [
           "white",
           "#222222"
          ],
          "size": 6,
          "symbol": 0
         },
         "mode": "markers",
         "opacity": 1,
         "showlegend": false,
         "type": "scatter",
         "x": [
          0.914767116281536,
          0.9371681204404455
         ],
         "xaxis": "x",
         "y": [
          "A",
          "A"
         ],
         "yaxis": "y"
        },
        {
         "cliponaxis": false,
         "hovertemplate": [
          "%{y}: %{x} (group size: 6)<extra></extra>",
          "baseline: %{x} (group size: 401)<extra></extra>"
         ],
         "legendgroup": "Negative differences",
         "line": {
          "color": "orangered",
          "width": 8
         },
         "marker": {
          "color": [
           "white",
           "#222222"
          ],
          "line": {
           "color": [
            "orangered",
            "orangered"
           ],
           "width": [
            2,
            2
           ]
          },
          "size": 6,
          "symbol": 0
         },
         "mode": "lines+text+markers",
         "opacity": 1,
         "showlegend": false,
         "type": "scatter",
         "x": [
          0.881404664723032,
          0.9371681204404455
         ],
         "xaxis": "x",
         "y": [
          "E",
          "E"
         ],
         "yaxis": "y"
        },
        {
         "cliponaxis": false,
         "error_x": {
          "array": [
           0.07961177144390381,
           0.010706518560063265
          ],
          "color": "black",
          "thickness": 0.75
         },
         "hoverinfo": "skip",
         "legendgroup": "Negative differences",
         "marker": {
          "color": [
           "white",
           "#222222"
          ],
          "size": 6,
          "symbol": 0
         },
         "mode": "markers",
         "opacity": 1,
         "showlegend": false,
         "type": "scatter",
         "x": [
          0.881404664723032,
          0.9371681204404455
         ],
         "xaxis": "x",
         "y": [
          "E",
          "E"
         ],
         "yaxis": "y"
        },
        {
         "cliponaxis": false,
         "hovertemplate": [
          "%{y}: %{x} (group size: 31)<extra></extra>",
          "baseline: %{x} (group size: 401)<extra></extra>"
         ],
         "legendgroup": "Negative differences",
         "line": {
          "color": "orangered",
          "width": 8
         },
         "marker": {
          "color": [
           "white",
           "#222222"
          ],
          "line": {
           "color": [
            "orangered",
            "orangered"
           ],
           "width": [
            2,
            2
           ]
          },
          "size": 6,
          "symbol": 0
         },
         "mode": "lines+text+markers",
         "opacity": 1,
         "showlegend": false,
         "type": "scatter",
         "x": [
          0.8321934765194068,
          0.9371681204404455
         ],
         "xaxis": "x",
         "y": [
          "Y",
          "Y"
         ],
         "yaxis": "y"
        },
        {
         "cliponaxis": false,
         "error_x": {
          "array": [
           0.09739884432111112,
           0.010706518560063265
          ],
          "color": "black",
          "thickness": 0.75
         },
         "hoverinfo": "skip",
         "legendgroup": "Negative differences",
         "marker": {
          "color": [
           "white",
           "#222222"
          ],
          "size": 6,
          "symbol": 0
         },
         "mode": "markers",
         "opacity": 1,
         "showlegend": false,
         "type": "scatter",
         "x": [
          0.8321934765194068,
          0.9371681204404455
         ],
         "xaxis": "x",
         "y": [
          "Y",
          "Y"
         ],
         "yaxis": "y"
        },
        {
         "legendgroup": "Negative differences",
         "legendgrouptitle": {
          "text": "Negative differences"
         },
         "marker": {
          "color": "white",
          "line": {
           "color": "orangered",
           "width": 2
          },
          "size": 6,
          "symbol": 0
         },
         "mode": "markers",
         "name": "subgroup score",
         "type": "scatter",
         "x": [
          null
         ],
         "y": [
          null
         ]
        },
        {
         "legendgroup": "Negative differences",
         "legendgrouptitle": {
          "text": "Negative differences"
         },
         "marker": {
          "color": "#222222",
          "line": {
           "color": "orangered",
           "width": 2
          },
          "size": 6,
          "symbol": 0
         },
         "mode": "markers",
         "name": "baseline score",
         "type": "scatter",
         "x": [
          null
         ],
         "y": [
          null
         ]
        },
        {
         "legendgroup": "Positive differences",
         "legendgrouptitle": {
          "text": "Positive differences"
         },
         "marker": {
          "color": "white",
          "line": {
           "color": "limegreen",
           "width": 2
          },
          "size": 6,
          "symbol": 0
         },
         "mode": "markers",
         "name": "subgroup score",
         "type": "scatter",
         "x": [
          null
         ],
         "y": [
          null
         ]
        },
        {
         "legendgroup": "Positive differences",
         "legendgrouptitle": {
          "text": "Positive differences"
         },
         "marker": {
          "color": "#222222",
          "line": {
           "color": "limegreen",
           "width": 2
          },
          "size": 6,
          "symbol": 0
         },
         "mode": "markers",
         "name": "baseline score",
         "type": "scatter",
         "x": [
          null
         ],
         "y": [
          null
         ]
        }
       ],
       "layout": {
        "height": 400,
        "template": {
         "data": {
          "bar": [
           {
            "error_x": {
             "color": "#2a3f5f"
            },
            "error_y": {
             "color": "#2a3f5f"
            },
            "marker": {
             "line": {
              "color": "#E5ECF6",
              "width": 0.5
             },
             "pattern": {
              "fillmode": "overlay",
              "size": 10,
              "solidity": 0.2
             }
            },
            "type": "bar"
           }
          ],
          "barpolar": [
           {
            "marker": {
             "line": {
              "color": "#E5ECF6",
              "width": 0.5
             },
             "pattern": {
              "fillmode": "overlay",
              "size": 10,
              "solidity": 0.2
             }
            },
            "type": "barpolar"
           }
          ],
          "carpet": [
           {
            "aaxis": {
             "endlinecolor": "#2a3f5f",
             "gridcolor": "white",
             "linecolor": "white",
             "minorgridcolor": "white",
             "startlinecolor": "#2a3f5f"
            },
            "baxis": {
             "endlinecolor": "#2a3f5f",
             "gridcolor": "white",
             "linecolor": "white",
             "minorgridcolor": "white",
             "startlinecolor": "#2a3f5f"
            },
            "type": "carpet"
           }
          ],
          "choropleth": [
           {
            "colorbar": {
             "outlinewidth": 0,
             "ticks": ""
            },
            "type": "choropleth"
           }
          ],
          "contour": [
           {
            "colorbar": {
             "outlinewidth": 0,
             "ticks": ""
            },
            "colorscale": [
             [
              0,
              "#0d0887"
             ],
             [
              0.1111111111111111,
              "#46039f"
             ],
             [
              0.2222222222222222,
              "#7201a8"
             ],
             [
              0.3333333333333333,
              "#9c179e"
             ],
             [
              0.4444444444444444,
              "#bd3786"
             ],
             [
              0.5555555555555556,
              "#d8576b"
             ],
             [
              0.6666666666666666,
              "#ed7953"
             ],
             [
              0.7777777777777778,
              "#fb9f3a"
             ],
             [
              0.8888888888888888,
              "#fdca26"
             ],
             [
              1,
              "#f0f921"
             ]
            ],
            "type": "contour"
           }
          ],
          "contourcarpet": [
           {
            "colorbar": {
             "outlinewidth": 0,
             "ticks": ""
            },
            "type": "contourcarpet"
           }
          ],
          "heatmap": [
           {
            "colorbar": {
             "outlinewidth": 0,
             "ticks": ""
            },
            "colorscale": [
             [
              0,
              "#0d0887"
             ],
             [
              0.1111111111111111,
              "#46039f"
             ],
             [
              0.2222222222222222,
              "#7201a8"
             ],
             [
              0.3333333333333333,
              "#9c179e"
             ],
             [
              0.4444444444444444,
              "#bd3786"
             ],
             [
              0.5555555555555556,
              "#d8576b"
             ],
             [
              0.6666666666666666,
              "#ed7953"
             ],
             [
              0.7777777777777778,
              "#fb9f3a"
             ],
             [
              0.8888888888888888,
              "#fdca26"
             ],
             [
              1,
              "#f0f921"
             ]
            ],
            "type": "heatmap"
           }
          ],
          "heatmapgl": [
           {
            "colorbar": {
             "outlinewidth": 0,
             "ticks": ""
            },
            "colorscale": [
             [
              0,
              "#0d0887"
             ],
             [
              0.1111111111111111,
              "#46039f"
             ],
             [
              0.2222222222222222,
              "#7201a8"
             ],
             [
              0.3333333333333333,
              "#9c179e"
             ],
             [
              0.4444444444444444,
              "#bd3786"
             ],
             [
              0.5555555555555556,
              "#d8576b"
             ],
             [
              0.6666666666666666,
              "#ed7953"
             ],
             [
              0.7777777777777778,
              "#fb9f3a"
             ],
             [
              0.8888888888888888,
              "#fdca26"
             ],
             [
              1,
              "#f0f921"
             ]
            ],
            "type": "heatmapgl"
           }
          ],
          "histogram": [
           {
            "marker": {
             "pattern": {
              "fillmode": "overlay",
              "size": 10,
              "solidity": 0.2
             }
            },
            "type": "histogram"
           }
          ],
          "histogram2d": [
           {
            "colorbar": {
             "outlinewidth": 0,
             "ticks": ""
            },
            "colorscale": [
             [
              0,
              "#0d0887"
             ],
             [
              0.1111111111111111,
              "#46039f"
             ],
             [
              0.2222222222222222,
              "#7201a8"
             ],
             [
              0.3333333333333333,
              "#9c179e"
             ],
             [
              0.4444444444444444,
              "#bd3786"
             ],
             [
              0.5555555555555556,
              "#d8576b"
             ],
             [
              0.6666666666666666,
              "#ed7953"
             ],
             [
              0.7777777777777778,
              "#fb9f3a"
             ],
             [
              0.8888888888888888,
              "#fdca26"
             ],
             [
              1,
              "#f0f921"
             ]
            ],
            "type": "histogram2d"
           }
          ],
          "histogram2dcontour": [
           {
            "colorbar": {
             "outlinewidth": 0,
             "ticks": ""
            },
            "colorscale": [
             [
              0,
              "#0d0887"
             ],
             [
              0.1111111111111111,
              "#46039f"
             ],
             [
              0.2222222222222222,
              "#7201a8"
             ],
             [
              0.3333333333333333,
              "#9c179e"
             ],
             [
              0.4444444444444444,
              "#bd3786"
             ],
             [
              0.5555555555555556,
              "#d8576b"
             ],
             [
              0.6666666666666666,
              "#ed7953"
             ],
             [
              0.7777777777777778,
              "#fb9f3a"
             ],
             [
              0.8888888888888888,
              "#fdca26"
             ],
             [
              1,
              "#f0f921"
             ]
            ],
            "type": "histogram2dcontour"
           }
          ],
          "mesh3d": [
           {
            "colorbar": {
             "outlinewidth": 0,
             "ticks": ""
            },
            "type": "mesh3d"
           }
          ],
          "parcoords": [
           {
            "line": {
             "colorbar": {
              "outlinewidth": 0,
              "ticks": ""
             }
            },
            "type": "parcoords"
           }
          ],
          "pie": [
           {
            "automargin": true,
            "type": "pie"
           }
          ],
          "scatter": [
           {
            "fillpattern": {
             "fillmode": "overlay",
             "size": 10,
             "solidity": 0.2
            },
            "type": "scatter"
           }
          ],
          "scatter3d": [
           {
            "line": {
             "colorbar": {
              "outlinewidth": 0,
              "ticks": ""
             }
            },
            "marker": {
             "colorbar": {
              "outlinewidth": 0,
              "ticks": ""
             }
            },
            "type": "scatter3d"
           }
          ],
          "scattercarpet": [
           {
            "marker": {
             "colorbar": {
              "outlinewidth": 0,
              "ticks": ""
             }
            },
            "type": "scattercarpet"
           }
          ],
          "scattergeo": [
           {
            "marker": {
             "colorbar": {
              "outlinewidth": 0,
              "ticks": ""
             }
            },
            "type": "scattergeo"
           }
          ],
          "scattergl": [
           {
            "marker": {
             "colorbar": {
              "outlinewidth": 0,
              "ticks": ""
             }
            },
            "type": "scattergl"
           }
          ],
          "scattermapbox": [
           {
            "marker": {
             "colorbar": {
              "outlinewidth": 0,
              "ticks": ""
             }
            },
            "type": "scattermapbox"
           }
          ],
          "scatterpolar": [
           {
            "marker": {
             "colorbar": {
              "outlinewidth": 0,
              "ticks": ""
             }
            },
            "type": "scatterpolar"
           }
          ],
          "scatterpolargl": [
           {
            "marker": {
             "colorbar": {
              "outlinewidth": 0,
              "ticks": ""
             }
            },
            "type": "scatterpolargl"
           }
          ],
          "scatterternary": [
           {
            "marker": {
             "colorbar": {
              "outlinewidth": 0,
              "ticks": ""
             }
            },
            "type": "scatterternary"
           }
          ],
          "surface": [
           {
            "colorbar": {
             "outlinewidth": 0,
             "ticks": ""
            },
            "colorscale": [
             [
              0,
              "#0d0887"
             ],
             [
              0.1111111111111111,
              "#46039f"
             ],
             [
              0.2222222222222222,
              "#7201a8"
             ],
             [
              0.3333333333333333,
              "#9c179e"
             ],
             [
              0.4444444444444444,
              "#bd3786"
             ],
             [
              0.5555555555555556,
              "#d8576b"
             ],
             [
              0.6666666666666666,
              "#ed7953"
             ],
             [
              0.7777777777777778,
              "#fb9f3a"
             ],
             [
              0.8888888888888888,
              "#fdca26"
             ],
             [
              1,
              "#f0f921"
             ]
            ],
            "type": "surface"
           }
          ],
          "table": [
           {
            "cells": {
             "fill": {
              "color": "#EBF0F8"
             },
             "line": {
              "color": "white"
             }
            },
            "header": {
             "fill": {
              "color": "#C8D4E3"
             },
             "line": {
              "color": "white"
             }
            },
            "type": "table"
           }
          ]
         },
         "layout": {
          "annotationdefaults": {
           "arrowcolor": "#2a3f5f",
           "arrowhead": 0,
           "arrowwidth": 1
          },
          "autotypenumbers": "strict",
          "coloraxis": {
           "colorbar": {
            "outlinewidth": 0,
            "ticks": ""
           }
          },
          "colorscale": {
           "diverging": [
            [
             0,
             "#8e0152"
            ],
            [
             0.1,
             "#c51b7d"
            ],
            [
             0.2,
             "#de77ae"
            ],
            [
             0.3,
             "#f1b6da"
            ],
            [
             0.4,
             "#fde0ef"
            ],
            [
             0.5,
             "#f7f7f7"
            ],
            [
             0.6,
             "#e6f5d0"
            ],
            [
             0.7,
             "#b8e186"
            ],
            [
             0.8,
             "#7fbc41"
            ],
            [
             0.9,
             "#4d9221"
            ],
            [
             1,
             "#276419"
            ]
           ],
           "sequential": [
            [
             0,
             "#0d0887"
            ],
            [
             0.1111111111111111,
             "#46039f"
            ],
            [
             0.2222222222222222,
             "#7201a8"
            ],
            [
             0.3333333333333333,
             "#9c179e"
            ],
            [
             0.4444444444444444,
             "#bd3786"
            ],
            [
             0.5555555555555556,
             "#d8576b"
            ],
            [
             0.6666666666666666,
             "#ed7953"
            ],
            [
             0.7777777777777778,
             "#fb9f3a"
            ],
            [
             0.8888888888888888,
             "#fdca26"
            ],
            [
             1,
             "#f0f921"
            ]
           ],
           "sequentialminus": [
            [
             0,
             "#0d0887"
            ],
            [
             0.1111111111111111,
             "#46039f"
            ],
            [
             0.2222222222222222,
             "#7201a8"
            ],
            [
             0.3333333333333333,
             "#9c179e"
            ],
            [
             0.4444444444444444,
             "#bd3786"
            ],
            [
             0.5555555555555556,
             "#d8576b"
            ],
            [
             0.6666666666666666,
             "#ed7953"
            ],
            [
             0.7777777777777778,
             "#fb9f3a"
            ],
            [
             0.8888888888888888,
             "#fdca26"
            ],
            [
             1,
             "#f0f921"
            ]
           ]
          },
          "colorway": [
           "#636efa",
           "#EF553B",
           "#00cc96",
           "#ab63fa",
           "#FFA15A",
           "#19d3f3",
           "#FF6692",
           "#B6E880",
           "#FF97FF",
           "#FECB52"
          ],
          "font": {
           "color": "#2a3f5f"
          },
          "geo": {
           "bgcolor": "white",
           "lakecolor": "white",
           "landcolor": "#E5ECF6",
           "showlakes": true,
           "showland": true,
           "subunitcolor": "white"
          },
          "hoverlabel": {
           "align": "left"
          },
          "hovermode": "closest",
          "mapbox": {
           "style": "light"
          },
          "paper_bgcolor": "white",
          "plot_bgcolor": "#E5ECF6",
          "polar": {
           "angularaxis": {
            "gridcolor": "white",
            "linecolor": "white",
            "ticks": ""
           },
           "bgcolor": "#E5ECF6",
           "radialaxis": {
            "gridcolor": "white",
            "linecolor": "white",
            "ticks": ""
           }
          },
          "scene": {
           "xaxis": {
            "backgroundcolor": "#E5ECF6",
            "gridcolor": "white",
            "gridwidth": 2,
            "linecolor": "white",
            "showbackground": true,
            "ticks": "",
            "zerolinecolor": "white"
           },
           "yaxis": {
            "backgroundcolor": "#E5ECF6",
            "gridcolor": "white",
            "gridwidth": 2,
            "linecolor": "white",
            "showbackground": true,
            "ticks": "",
            "zerolinecolor": "white"
           },
           "zaxis": {
            "backgroundcolor": "#E5ECF6",
            "gridcolor": "white",
            "gridwidth": 2,
            "linecolor": "white",
            "showbackground": true,
            "ticks": "",
            "zerolinecolor": "white"
           }
          },
          "shapedefaults": {
           "line": {
            "color": "#2a3f5f"
           }
          },
          "ternary": {
           "aaxis": {
            "gridcolor": "white",
            "linecolor": "white",
            "ticks": ""
           },
           "baxis": {
            "gridcolor": "white",
            "linecolor": "white",
            "ticks": ""
           },
           "bgcolor": "#E5ECF6",
           "caxis": {
            "gridcolor": "white",
            "linecolor": "white",
            "ticks": ""
           }
          },
          "title": {
           "x": 0.05
          },
          "xaxis": {
           "automargin": true,
           "gridcolor": "white",
           "linecolor": "white",
           "ticks": "",
           "title": {
            "standoff": 15
           },
           "zerolinecolor": "white",
           "zerolinewidth": 2
          },
          "yaxis": {
           "automargin": true,
           "gridcolor": "white",
           "linecolor": "white",
           "ticks": "",
           "title": {
            "standoff": 15
           },
           "zerolinecolor": "white",
           "zerolinewidth": 2
          }
         }
        },
        "title": {
         "text": "Largest performance differences<br><sup>(Showing 10/10 cpc_section categories)</sup>"
        },
        "xaxis": {
         "anchor": "y",
         "domain": [
          0,
          1
         ],
         "title": {
          "text": "Pairwise F-score score"
         }
        },
        "yaxis": {
         "anchor": "x",
         "domain": [
          0,
          1
         ],
         "tickmode": "linear",
         "title": {
          "text": "cpc_section"
         }
        }
       }
      }
     },
     "metadata": {},
     "output_type": "display_data"
    }
   ],
   "source": [
    "import pandas as pd\n",
    "import numpy as np\n",
    "from er_evaluation.plots import plot_performance_disparities\n",
    "from er_evaluation.datasets import load_pv_disambiguations, load_pv_data\n",
    "\n",
    "predictions, reference = load_pv_disambiguations()\n",
    "pv_data = load_pv_data()\n",
    "\n",
    "protected_feature = pv_data.set_index(\"mention_id\")['cpc_section'].apply(lambda x: x[0] if isinstance(x, np.ndarray) and len(x) > 0 else 'None')\n",
    "protected_feature = pd.concat([reference, protected_feature], join=\"inner\", axis=1).groupby(\"unique_id\").agg(\"first\")[\"cpc_section\"]\n",
    "\n",
    "plot_performance_disparities(\n",
    "    prediction=predictions[pd.Timestamp('2021-12-30')],\n",
    "    reference=reference,\n",
    "    weights=\"cluster_size\",\n",
    "    protected_feature=protected_feature,\n",
    ")"
   ]
  }
 ],
 "metadata": {
  "kernelspec": {
   "display_name": "er-evaluation",
   "language": "python",
   "name": "python3"
  },
  "language_info": {
   "codemirror_mode": {
    "name": "ipython",
    "version": 3
   },
   "file_extension": ".py",
   "mimetype": "text/x-python",
   "name": "python",
   "nbconvert_exporter": "python",
   "pygments_lexer": "ipython3",
   "version": "3.10.8"
  },
  "orig_nbformat": 4,
  "vscode": {
   "interpreter": {
    "hash": "a7cfe58095853939316acebc405e10b3a49f46616572691f7cf90ff724f2bfcd"
   }
  }
 },
 "nbformat": 4,
 "nbformat_minor": 2
}
